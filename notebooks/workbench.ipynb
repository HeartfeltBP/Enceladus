{
 "cells": [
  {
   "cell_type": "code",
   "execution_count": 1,
   "metadata": {},
   "outputs": [
    {
     "name": "stderr",
     "output_type": "stream",
     "text": [
      "2022-11-02 18:44:58.821115: I tensorflow/stream_executor/cuda/cuda_gpu_executor.cc:975] successful NUMA node read from SysFS had negative value (-1), but there must be at least one NUMA node, so returning NUMA node zero\n",
      "2022-11-02 18:44:58.826214: I tensorflow/stream_executor/cuda/cuda_gpu_executor.cc:975] successful NUMA node read from SysFS had negative value (-1), but there must be at least one NUMA node, so returning NUMA node zero\n",
      "2022-11-02 18:44:58.826461: I tensorflow/stream_executor/cuda/cuda_gpu_executor.cc:975] successful NUMA node read from SysFS had negative value (-1), but there must be at least one NUMA node, so returning NUMA node zero\n",
      "2022-11-02 18:44:58.827129: I tensorflow/core/platform/cpu_feature_guard.cc:193] This TensorFlow binary is optimized with oneAPI Deep Neural Network Library (oneDNN) to use the following CPU instructions in performance-critical operations:  AVX2 FMA\n",
      "To enable them in other operations, rebuild TensorFlow with the appropriate compiler flags.\n",
      "2022-11-02 18:44:58.827678: I tensorflow/stream_executor/cuda/cuda_gpu_executor.cc:975] successful NUMA node read from SysFS had negative value (-1), but there must be at least one NUMA node, so returning NUMA node zero\n",
      "2022-11-02 18:44:58.827910: I tensorflow/stream_executor/cuda/cuda_gpu_executor.cc:975] successful NUMA node read from SysFS had negative value (-1), but there must be at least one NUMA node, so returning NUMA node zero\n",
      "2022-11-02 18:44:58.828225: I tensorflow/stream_executor/cuda/cuda_gpu_executor.cc:975] successful NUMA node read from SysFS had negative value (-1), but there must be at least one NUMA node, so returning NUMA node zero\n",
      "2022-11-02 18:44:59.558202: I tensorflow/stream_executor/cuda/cuda_gpu_executor.cc:975] successful NUMA node read from SysFS had negative value (-1), but there must be at least one NUMA node, so returning NUMA node zero\n",
      "2022-11-02 18:44:59.558653: I tensorflow/stream_executor/cuda/cuda_gpu_executor.cc:975] successful NUMA node read from SysFS had negative value (-1), but there must be at least one NUMA node, so returning NUMA node zero\n",
      "2022-11-02 18:44:59.558875: I tensorflow/stream_executor/cuda/cuda_gpu_executor.cc:975] successful NUMA node read from SysFS had negative value (-1), but there must be at least one NUMA node, so returning NUMA node zero\n",
      "2022-11-02 18:44:59.559073: I tensorflow/core/common_runtime/gpu/gpu_device.cc:1532] Created device /job:localhost/replica:0/task:0/device:GPU:0 with 5550 MB memory:  -> device: 0, name: NVIDIA GeForce RTX 3070, pci bus id: 0000:01:00.0, compute capability: 8.6\n",
      "\u001b[34m\u001b[1mwandb\u001b[0m: Currently logged in as: \u001b[33mcamhpj\u001b[0m (\u001b[33mheartfelt\u001b[0m). Use \u001b[1m`wandb login --relogin`\u001b[0m to force relogin\n"
     ]
    },
    {
     "data": {
      "text/html": [
       "Tracking run with wandb version 0.13.4"
      ],
      "text/plain": [
       "<IPython.core.display.HTML object>"
      ]
     },
     "metadata": {},
     "output_type": "display_data"
    },
    {
     "data": {
      "text/html": [
       "Run data is saved locally in <code>/home/cam/Documents/Enceladus/notebooks/wandb/run-20221102_184500-3969aajz</code>"
      ],
      "text/plain": [
       "<IPython.core.display.HTML object>"
      ]
     },
     "metadata": {},
     "output_type": "display_data"
    },
    {
     "data": {
      "text/html": [
       "Syncing run <strong><a href=\"https://wandb.ai/heartfelt/Enceladus-notebooks/runs/3969aajz\" target=\"_blank\">restful-eon-16</a></strong> to <a href=\"https://wandb.ai/heartfelt/Enceladus-notebooks\" target=\"_blank\">Weights & Biases</a> (<a href=\"https://wandb.me/run\" target=\"_blank\">docs</a>)<br/>"
      ],
      "text/plain": [
       "<IPython.core.display.HTML object>"
      ]
     },
     "metadata": {},
     "output_type": "display_data"
    },
    {
     "name": "stderr",
     "output_type": "stream",
     "text": [
      "\u001b[34m\u001b[1mwandb\u001b[0m: \u001b[33mWARNING\u001b[0m The save_model argument by default saves the model in the HDF5 format that cannot save custom objects like subclassed models and custom layers. This behavior will be deprecated in a future release in favor of the SavedModel format. Meanwhile, the HDF5 model is saved as W&B files and the SavedModel as W&B Artifacts.\n"
     ]
    },
    {
     "name": "stdout",
     "output_type": "stream",
     "text": [
      "Reading train split.\n",
      "Reading val split.\n",
      "Reading test split.\n",
      "Fitting...\n",
      "Epoch 1/20\n"
     ]
    },
    {
     "name": "stderr",
     "output_type": "stream",
     "text": [
      "2022-11-02 18:45:06.726917: I tensorflow/stream_executor/cuda/cuda_dnn.cc:384] Loaded cuDNN version 8600\n"
     ]
    },
    {
     "name": "stdout",
     "output_type": "stream",
     "text": [
      "6560/6562 [============================>.] - ETA: 0s - loss: 0.4027 - mae: 0.4917"
     ]
    },
    {
     "name": "stderr",
     "output_type": "stream",
     "text": [
      "WARNING:absl:Found untraced functions such as _jit_compiled_convolution_op, _jit_compiled_convolution_op, _jit_compiled_convolution_op, _jit_compiled_convolution_op, _jit_compiled_convolution_op while saving (showing 5 of 24). These functions will not be directly callable after loading.\n"
     ]
    },
    {
     "name": "stdout",
     "output_type": "stream",
     "text": [
      "INFO:tensorflow:Assets written to: /home/cam/Documents/Enceladus/notebooks/wandb/run-20221102_184500-3969aajz/files/model-best/assets\n"
     ]
    },
    {
     "name": "stderr",
     "output_type": "stream",
     "text": [
      "INFO:tensorflow:Assets written to: /home/cam/Documents/Enceladus/notebooks/wandb/run-20221102_184500-3969aajz/files/model-best/assets\n",
      "\u001b[34m\u001b[1mwandb\u001b[0m: Adding directory to artifact (/home/cam/Documents/Enceladus/notebooks/wandb/run-20221102_184500-3969aajz/files/model-best)... Done. 0.5s\n"
     ]
    },
    {
     "name": "stdout",
     "output_type": "stream",
     "text": [
      "6562/6562 [==============================] - 176s 26ms/step - loss: 0.4027 - mae: 0.4917 - val_loss: 0.3533 - val_mae: 0.4497 - lr: 0.0010\n",
      "Epoch 2/20\n",
      "6561/6562 [============================>.] - ETA: 0s - loss: 0.3297 - mae: 0.4374"
     ]
    },
    {
     "name": "stderr",
     "output_type": "stream",
     "text": [
      "WARNING:absl:Found untraced functions such as _jit_compiled_convolution_op, _jit_compiled_convolution_op, _jit_compiled_convolution_op, _jit_compiled_convolution_op, _jit_compiled_convolution_op while saving (showing 5 of 24). These functions will not be directly callable after loading.\n"
     ]
    },
    {
     "name": "stdout",
     "output_type": "stream",
     "text": [
      "INFO:tensorflow:Assets written to: /home/cam/Documents/Enceladus/notebooks/wandb/run-20221102_184500-3969aajz/files/model-best/assets\n"
     ]
    },
    {
     "name": "stderr",
     "output_type": "stream",
     "text": [
      "INFO:tensorflow:Assets written to: /home/cam/Documents/Enceladus/notebooks/wandb/run-20221102_184500-3969aajz/files/model-best/assets\n",
      "\u001b[34m\u001b[1mwandb\u001b[0m: Adding directory to artifact (/home/cam/Documents/Enceladus/notebooks/wandb/run-20221102_184500-3969aajz/files/model-best)... Done. 0.4s\n"
     ]
    },
    {
     "name": "stdout",
     "output_type": "stream",
     "text": [
      "6562/6562 [==============================] - 172s 26ms/step - loss: 0.3297 - mae: 0.4374 - val_loss: 0.2993 - val_mae: 0.4111 - lr: 0.0010\n",
      "Epoch 3/20\n",
      "6562/6562 [==============================] - ETA: 0s - loss: 0.2993 - mae: 0.4129"
     ]
    },
    {
     "name": "stderr",
     "output_type": "stream",
     "text": [
      "WARNING:absl:Found untraced functions such as _jit_compiled_convolution_op, _jit_compiled_convolution_op, _jit_compiled_convolution_op, _jit_compiled_convolution_op, _jit_compiled_convolution_op while saving (showing 5 of 24). These functions will not be directly callable after loading.\n"
     ]
    },
    {
     "name": "stdout",
     "output_type": "stream",
     "text": [
      "INFO:tensorflow:Assets written to: /home/cam/Documents/Enceladus/notebooks/wandb/run-20221102_184500-3969aajz/files/model-best/assets\n"
     ]
    },
    {
     "name": "stderr",
     "output_type": "stream",
     "text": [
      "INFO:tensorflow:Assets written to: /home/cam/Documents/Enceladus/notebooks/wandb/run-20221102_184500-3969aajz/files/model-best/assets\n",
      "\u001b[34m\u001b[1mwandb\u001b[0m: Adding directory to artifact (/home/cam/Documents/Enceladus/notebooks/wandb/run-20221102_184500-3969aajz/files/model-best)... Done. 0.4s\n"
     ]
    },
    {
     "name": "stdout",
     "output_type": "stream",
     "text": [
      "6562/6562 [==============================] - 169s 26ms/step - loss: 0.2993 - mae: 0.4129 - val_loss: 0.2807 - val_mae: 0.3948 - lr: 0.0010\n",
      "Epoch 4/20\n",
      "6562/6562 [==============================] - ETA: 0s - loss: 0.2781 - mae: 0.3948"
     ]
    },
    {
     "name": "stderr",
     "output_type": "stream",
     "text": [
      "WARNING:absl:Found untraced functions such as _jit_compiled_convolution_op, _jit_compiled_convolution_op, _jit_compiled_convolution_op, _jit_compiled_convolution_op, _jit_compiled_convolution_op while saving (showing 5 of 24). These functions will not be directly callable after loading.\n"
     ]
    },
    {
     "name": "stdout",
     "output_type": "stream",
     "text": [
      "INFO:tensorflow:Assets written to: /home/cam/Documents/Enceladus/notebooks/wandb/run-20221102_184500-3969aajz/files/model-best/assets\n"
     ]
    },
    {
     "name": "stderr",
     "output_type": "stream",
     "text": [
      "INFO:tensorflow:Assets written to: /home/cam/Documents/Enceladus/notebooks/wandb/run-20221102_184500-3969aajz/files/model-best/assets\n",
      "\u001b[34m\u001b[1mwandb\u001b[0m: Adding directory to artifact (/home/cam/Documents/Enceladus/notebooks/wandb/run-20221102_184500-3969aajz/files/model-best)... Done. 0.4s\n"
     ]
    },
    {
     "name": "stdout",
     "output_type": "stream",
     "text": [
      "6562/6562 [==============================] - 168s 26ms/step - loss: 0.2781 - mae: 0.3948 - val_loss: 0.2598 - val_mae: 0.3763 - lr: 0.0010\n",
      "Epoch 5/20\n",
      "6560/6562 [============================>.] - ETA: 0s - loss: 0.2612 - mae: 0.3800"
     ]
    },
    {
     "name": "stderr",
     "output_type": "stream",
     "text": [
      "WARNING:absl:Found untraced functions such as _jit_compiled_convolution_op, _jit_compiled_convolution_op, _jit_compiled_convolution_op, _jit_compiled_convolution_op, _jit_compiled_convolution_op while saving (showing 5 of 24). These functions will not be directly callable after loading.\n"
     ]
    },
    {
     "name": "stdout",
     "output_type": "stream",
     "text": [
      "INFO:tensorflow:Assets written to: /home/cam/Documents/Enceladus/notebooks/wandb/run-20221102_184500-3969aajz/files/model-best/assets\n"
     ]
    },
    {
     "name": "stderr",
     "output_type": "stream",
     "text": [
      "INFO:tensorflow:Assets written to: /home/cam/Documents/Enceladus/notebooks/wandb/run-20221102_184500-3969aajz/files/model-best/assets\n",
      "\u001b[34m\u001b[1mwandb\u001b[0m: Adding directory to artifact (/home/cam/Documents/Enceladus/notebooks/wandb/run-20221102_184500-3969aajz/files/model-best)... Done. 0.4s\n"
     ]
    },
    {
     "name": "stdout",
     "output_type": "stream",
     "text": [
      "6562/6562 [==============================] - 164s 25ms/step - loss: 0.2612 - mae: 0.3800 - val_loss: 0.2450 - val_mae: 0.3634 - lr: 0.0010\n",
      "Epoch 6/20\n",
      "6562/6562 [==============================] - ETA: 0s - loss: 0.2476 - mae: 0.3679"
     ]
    },
    {
     "name": "stderr",
     "output_type": "stream",
     "text": [
      "WARNING:absl:Found untraced functions such as _jit_compiled_convolution_op, _jit_compiled_convolution_op, _jit_compiled_convolution_op, _jit_compiled_convolution_op, _jit_compiled_convolution_op while saving (showing 5 of 24). These functions will not be directly callable after loading.\n"
     ]
    },
    {
     "name": "stdout",
     "output_type": "stream",
     "text": [
      "INFO:tensorflow:Assets written to: /home/cam/Documents/Enceladus/notebooks/wandb/run-20221102_184500-3969aajz/files/model-best/assets\n"
     ]
    },
    {
     "name": "stderr",
     "output_type": "stream",
     "text": [
      "INFO:tensorflow:Assets written to: /home/cam/Documents/Enceladus/notebooks/wandb/run-20221102_184500-3969aajz/files/model-best/assets\n",
      "\u001b[34m\u001b[1mwandb\u001b[0m: Adding directory to artifact (/home/cam/Documents/Enceladus/notebooks/wandb/run-20221102_184500-3969aajz/files/model-best)... Done. 0.4s\n"
     ]
    },
    {
     "name": "stdout",
     "output_type": "stream",
     "text": [
      "6562/6562 [==============================] - 164s 25ms/step - loss: 0.2476 - mae: 0.3679 - val_loss: 0.2358 - val_mae: 0.3538 - lr: 0.0010\n",
      "Epoch 7/20\n",
      "6560/6562 [============================>.] - ETA: 0s - loss: 0.2363 - mae: 0.3578"
     ]
    },
    {
     "name": "stderr",
     "output_type": "stream",
     "text": [
      "WARNING:absl:Found untraced functions such as _jit_compiled_convolution_op, _jit_compiled_convolution_op, _jit_compiled_convolution_op, _jit_compiled_convolution_op, _jit_compiled_convolution_op while saving (showing 5 of 24). These functions will not be directly callable after loading.\n"
     ]
    },
    {
     "name": "stdout",
     "output_type": "stream",
     "text": [
      "INFO:tensorflow:Assets written to: /home/cam/Documents/Enceladus/notebooks/wandb/run-20221102_184500-3969aajz/files/model-best/assets\n"
     ]
    },
    {
     "name": "stderr",
     "output_type": "stream",
     "text": [
      "INFO:tensorflow:Assets written to: /home/cam/Documents/Enceladus/notebooks/wandb/run-20221102_184500-3969aajz/files/model-best/assets\n",
      "\u001b[34m\u001b[1mwandb\u001b[0m: Adding directory to artifact (/home/cam/Documents/Enceladus/notebooks/wandb/run-20221102_184500-3969aajz/files/model-best)... Done. 0.4s\n"
     ]
    },
    {
     "name": "stdout",
     "output_type": "stream",
     "text": [
      "6562/6562 [==============================] - 162s 25ms/step - loss: 0.2363 - mae: 0.3578 - val_loss: 0.2283 - val_mae: 0.3472 - lr: 0.0010\n",
      "Epoch 8/20\n",
      "6562/6562 [==============================] - ETA: 0s - loss: 0.2274 - mae: 0.3497"
     ]
    },
    {
     "name": "stderr",
     "output_type": "stream",
     "text": [
      "WARNING:absl:Found untraced functions such as _jit_compiled_convolution_op, _jit_compiled_convolution_op, _jit_compiled_convolution_op, _jit_compiled_convolution_op, _jit_compiled_convolution_op while saving (showing 5 of 24). These functions will not be directly callable after loading.\n"
     ]
    },
    {
     "name": "stdout",
     "output_type": "stream",
     "text": [
      "INFO:tensorflow:Assets written to: /home/cam/Documents/Enceladus/notebooks/wandb/run-20221102_184500-3969aajz/files/model-best/assets\n"
     ]
    },
    {
     "name": "stderr",
     "output_type": "stream",
     "text": [
      "INFO:tensorflow:Assets written to: /home/cam/Documents/Enceladus/notebooks/wandb/run-20221102_184500-3969aajz/files/model-best/assets\n",
      "\u001b[34m\u001b[1mwandb\u001b[0m: Adding directory to artifact (/home/cam/Documents/Enceladus/notebooks/wandb/run-20221102_184500-3969aajz/files/model-best)... Done. 0.4s\n"
     ]
    },
    {
     "name": "stdout",
     "output_type": "stream",
     "text": [
      "6562/6562 [==============================] - 158s 24ms/step - loss: 0.2274 - mae: 0.3497 - val_loss: 0.2234 - val_mae: 0.3421 - lr: 0.0010\n",
      "Epoch 9/20\n",
      "6561/6562 [============================>.] - ETA: 0s - loss: 0.2196 - mae: 0.3427"
     ]
    },
    {
     "name": "stderr",
     "output_type": "stream",
     "text": [
      "WARNING:absl:Found untraced functions such as _jit_compiled_convolution_op, _jit_compiled_convolution_op, _jit_compiled_convolution_op, _jit_compiled_convolution_op, _jit_compiled_convolution_op while saving (showing 5 of 24). These functions will not be directly callable after loading.\n"
     ]
    },
    {
     "name": "stdout",
     "output_type": "stream",
     "text": [
      "INFO:tensorflow:Assets written to: /home/cam/Documents/Enceladus/notebooks/wandb/run-20221102_184500-3969aajz/files/model-best/assets\n"
     ]
    },
    {
     "name": "stderr",
     "output_type": "stream",
     "text": [
      "INFO:tensorflow:Assets written to: /home/cam/Documents/Enceladus/notebooks/wandb/run-20221102_184500-3969aajz/files/model-best/assets\n",
      "\u001b[34m\u001b[1mwandb\u001b[0m: Adding directory to artifact (/home/cam/Documents/Enceladus/notebooks/wandb/run-20221102_184500-3969aajz/files/model-best)... Done. 0.4s\n"
     ]
    },
    {
     "name": "stdout",
     "output_type": "stream",
     "text": [
      "6562/6562 [==============================] - 159s 24ms/step - loss: 0.2196 - mae: 0.3427 - val_loss: 0.2201 - val_mae: 0.3375 - lr: 0.0010\n",
      "Epoch 10/20\n",
      "6561/6562 [============================>.] - ETA: 0s - loss: 0.2125 - mae: 0.3359"
     ]
    },
    {
     "name": "stderr",
     "output_type": "stream",
     "text": [
      "WARNING:absl:Found untraced functions such as _jit_compiled_convolution_op, _jit_compiled_convolution_op, _jit_compiled_convolution_op, _jit_compiled_convolution_op, _jit_compiled_convolution_op while saving (showing 5 of 24). These functions will not be directly callable after loading.\n"
     ]
    },
    {
     "name": "stdout",
     "output_type": "stream",
     "text": [
      "INFO:tensorflow:Assets written to: /home/cam/Documents/Enceladus/notebooks/wandb/run-20221102_184500-3969aajz/files/model-best/assets\n"
     ]
    },
    {
     "name": "stderr",
     "output_type": "stream",
     "text": [
      "INFO:tensorflow:Assets written to: /home/cam/Documents/Enceladus/notebooks/wandb/run-20221102_184500-3969aajz/files/model-best/assets\n",
      "\u001b[34m\u001b[1mwandb\u001b[0m: Adding directory to artifact (/home/cam/Documents/Enceladus/notebooks/wandb/run-20221102_184500-3969aajz/files/model-best)... Done. 0.4s\n"
     ]
    },
    {
     "name": "stdout",
     "output_type": "stream",
     "text": [
      "6562/6562 [==============================] - 164s 25ms/step - loss: 0.2125 - mae: 0.3359 - val_loss: 0.2144 - val_mae: 0.3307 - lr: 0.0010\n",
      "Epoch 11/20\n",
      "6562/6562 [==============================] - ETA: 0s - loss: 0.2067 - mae: 0.3306"
     ]
    },
    {
     "name": "stderr",
     "output_type": "stream",
     "text": [
      "WARNING:absl:Found untraced functions such as _jit_compiled_convolution_op, _jit_compiled_convolution_op, _jit_compiled_convolution_op, _jit_compiled_convolution_op, _jit_compiled_convolution_op while saving (showing 5 of 24). These functions will not be directly callable after loading.\n"
     ]
    },
    {
     "name": "stdout",
     "output_type": "stream",
     "text": [
      "INFO:tensorflow:Assets written to: /home/cam/Documents/Enceladus/notebooks/wandb/run-20221102_184500-3969aajz/files/model-best/assets\n"
     ]
    },
    {
     "name": "stderr",
     "output_type": "stream",
     "text": [
      "INFO:tensorflow:Assets written to: /home/cam/Documents/Enceladus/notebooks/wandb/run-20221102_184500-3969aajz/files/model-best/assets\n",
      "\u001b[34m\u001b[1mwandb\u001b[0m: Adding directory to artifact (/home/cam/Documents/Enceladus/notebooks/wandb/run-20221102_184500-3969aajz/files/model-best)... Done. 0.4s\n"
     ]
    },
    {
     "name": "stdout",
     "output_type": "stream",
     "text": [
      "6562/6562 [==============================] - 162s 25ms/step - loss: 0.2067 - mae: 0.3306 - val_loss: 0.2132 - val_mae: 0.3293 - lr: 0.0010\n",
      "Epoch 12/20\n",
      "6562/6562 [==============================] - ETA: 0s - loss: 0.2012 - mae: 0.3256"
     ]
    },
    {
     "name": "stderr",
     "output_type": "stream",
     "text": [
      "WARNING:absl:Found untraced functions such as _jit_compiled_convolution_op, _jit_compiled_convolution_op, _jit_compiled_convolution_op, _jit_compiled_convolution_op, _jit_compiled_convolution_op while saving (showing 5 of 24). These functions will not be directly callable after loading.\n"
     ]
    },
    {
     "name": "stdout",
     "output_type": "stream",
     "text": [
      "INFO:tensorflow:Assets written to: /home/cam/Documents/Enceladus/notebooks/wandb/run-20221102_184500-3969aajz/files/model-best/assets\n"
     ]
    },
    {
     "name": "stderr",
     "output_type": "stream",
     "text": [
      "INFO:tensorflow:Assets written to: /home/cam/Documents/Enceladus/notebooks/wandb/run-20221102_184500-3969aajz/files/model-best/assets\n",
      "\u001b[34m\u001b[1mwandb\u001b[0m: Adding directory to artifact (/home/cam/Documents/Enceladus/notebooks/wandb/run-20221102_184500-3969aajz/files/model-best)... Done. 0.4s\n"
     ]
    },
    {
     "name": "stdout",
     "output_type": "stream",
     "text": [
      "6562/6562 [==============================] - 177s 27ms/step - loss: 0.2012 - mae: 0.3256 - val_loss: 0.2077 - val_mae: 0.3231 - lr: 0.0010\n",
      "Epoch 13/20\n",
      "6562/6562 [==============================] - 169s 26ms/step - loss: 0.1965 - mae: 0.3212 - val_loss: 0.2119 - val_mae: 0.3258 - lr: 0.0010\n",
      "Epoch 14/20\n",
      "6560/6562 [============================>.] - ETA: 0s - loss: 0.1919 - mae: 0.3171"
     ]
    },
    {
     "name": "stderr",
     "output_type": "stream",
     "text": [
      "WARNING:absl:Found untraced functions such as _jit_compiled_convolution_op, _jit_compiled_convolution_op, _jit_compiled_convolution_op, _jit_compiled_convolution_op, _jit_compiled_convolution_op while saving (showing 5 of 24). These functions will not be directly callable after loading.\n"
     ]
    },
    {
     "name": "stdout",
     "output_type": "stream",
     "text": [
      "INFO:tensorflow:Assets written to: /home/cam/Documents/Enceladus/notebooks/wandb/run-20221102_184500-3969aajz/files/model-best/assets\n"
     ]
    },
    {
     "name": "stderr",
     "output_type": "stream",
     "text": [
      "INFO:tensorflow:Assets written to: /home/cam/Documents/Enceladus/notebooks/wandb/run-20221102_184500-3969aajz/files/model-best/assets\n",
      "\u001b[34m\u001b[1mwandb\u001b[0m: Adding directory to artifact (/home/cam/Documents/Enceladus/notebooks/wandb/run-20221102_184500-3969aajz/files/model-best)... Done. 0.4s\n"
     ]
    },
    {
     "name": "stdout",
     "output_type": "stream",
     "text": [
      "6562/6562 [==============================] - 170s 26ms/step - loss: 0.1919 - mae: 0.3171 - val_loss: 0.2042 - val_mae: 0.3191 - lr: 0.0010\n",
      "Epoch 15/20\n",
      "6561/6562 [============================>.] - ETA: 0s - loss: 0.1877 - mae: 0.3133"
     ]
    },
    {
     "name": "stderr",
     "output_type": "stream",
     "text": [
      "WARNING:absl:Found untraced functions such as _jit_compiled_convolution_op, _jit_compiled_convolution_op, _jit_compiled_convolution_op, _jit_compiled_convolution_op, _jit_compiled_convolution_op while saving (showing 5 of 24). These functions will not be directly callable after loading.\n"
     ]
    },
    {
     "name": "stdout",
     "output_type": "stream",
     "text": [
      "INFO:tensorflow:Assets written to: /home/cam/Documents/Enceladus/notebooks/wandb/run-20221102_184500-3969aajz/files/model-best/assets\n"
     ]
    },
    {
     "name": "stderr",
     "output_type": "stream",
     "text": [
      "INFO:tensorflow:Assets written to: /home/cam/Documents/Enceladus/notebooks/wandb/run-20221102_184500-3969aajz/files/model-best/assets\n",
      "\u001b[34m\u001b[1mwandb\u001b[0m: Adding directory to artifact (/home/cam/Documents/Enceladus/notebooks/wandb/run-20221102_184500-3969aajz/files/model-best)... Done. 0.4s\n"
     ]
    },
    {
     "name": "stdout",
     "output_type": "stream",
     "text": [
      "6562/6562 [==============================] - 174s 26ms/step - loss: 0.1877 - mae: 0.3133 - val_loss: 0.2010 - val_mae: 0.3164 - lr: 0.0010\n",
      "Epoch 16/20\n",
      "6562/6562 [==============================] - 155s 24ms/step - loss: 0.1841 - mae: 0.3098 - val_loss: 0.2039 - val_mae: 0.3188 - lr: 0.0010\n",
      "Epoch 17/20\n",
      "6561/6562 [============================>.] - ETA: 0s - loss: 0.1805 - mae: 0.3065"
     ]
    },
    {
     "name": "stderr",
     "output_type": "stream",
     "text": [
      "WARNING:absl:Found untraced functions such as _jit_compiled_convolution_op, _jit_compiled_convolution_op, _jit_compiled_convolution_op, _jit_compiled_convolution_op, _jit_compiled_convolution_op while saving (showing 5 of 24). These functions will not be directly callable after loading.\n"
     ]
    },
    {
     "name": "stdout",
     "output_type": "stream",
     "text": [
      "INFO:tensorflow:Assets written to: /home/cam/Documents/Enceladus/notebooks/wandb/run-20221102_184500-3969aajz/files/model-best/assets\n"
     ]
    },
    {
     "name": "stderr",
     "output_type": "stream",
     "text": [
      "INFO:tensorflow:Assets written to: /home/cam/Documents/Enceladus/notebooks/wandb/run-20221102_184500-3969aajz/files/model-best/assets\n",
      "\u001b[34m\u001b[1mwandb\u001b[0m: Adding directory to artifact (/home/cam/Documents/Enceladus/notebooks/wandb/run-20221102_184500-3969aajz/files/model-best)... Done. 0.4s\n"
     ]
    },
    {
     "name": "stdout",
     "output_type": "stream",
     "text": [
      "6562/6562 [==============================] - 164s 25ms/step - loss: 0.1805 - mae: 0.3065 - val_loss: 0.1961 - val_mae: 0.3110 - lr: 0.0010\n",
      "Epoch 18/20\n",
      "6561/6562 [============================>.] - ETA: 0s - loss: 0.1774 - mae: 0.3037"
     ]
    },
    {
     "name": "stderr",
     "output_type": "stream",
     "text": [
      "WARNING:absl:Found untraced functions such as _jit_compiled_convolution_op, _jit_compiled_convolution_op, _jit_compiled_convolution_op, _jit_compiled_convolution_op, _jit_compiled_convolution_op while saving (showing 5 of 24). These functions will not be directly callable after loading.\n"
     ]
    },
    {
     "name": "stdout",
     "output_type": "stream",
     "text": [
      "INFO:tensorflow:Assets written to: /home/cam/Documents/Enceladus/notebooks/wandb/run-20221102_184500-3969aajz/files/model-best/assets\n"
     ]
    },
    {
     "name": "stderr",
     "output_type": "stream",
     "text": [
      "INFO:tensorflow:Assets written to: /home/cam/Documents/Enceladus/notebooks/wandb/run-20221102_184500-3969aajz/files/model-best/assets\n",
      "\u001b[34m\u001b[1mwandb\u001b[0m: Adding directory to artifact (/home/cam/Documents/Enceladus/notebooks/wandb/run-20221102_184500-3969aajz/files/model-best)... Done. 0.4s\n"
     ]
    },
    {
     "name": "stdout",
     "output_type": "stream",
     "text": [
      "6562/6562 [==============================] - 173s 26ms/step - loss: 0.1773 - mae: 0.3037 - val_loss: 0.1943 - val_mae: 0.3082 - lr: 0.0010\n",
      "Epoch 19/20\n",
      "6562/6562 [==============================] - 167s 25ms/step - loss: 0.1738 - mae: 0.3005 - val_loss: 0.1955 - val_mae: 0.3093 - lr: 0.0010\n",
      "Epoch 20/20\n",
      "6560/6562 [============================>.] - ETA: 0s - loss: 0.1709 - mae: 0.2979"
     ]
    },
    {
     "name": "stderr",
     "output_type": "stream",
     "text": [
      "WARNING:absl:Found untraced functions such as _jit_compiled_convolution_op, _jit_compiled_convolution_op, _jit_compiled_convolution_op, _jit_compiled_convolution_op, _jit_compiled_convolution_op while saving (showing 5 of 24). These functions will not be directly callable after loading.\n"
     ]
    },
    {
     "name": "stdout",
     "output_type": "stream",
     "text": [
      "INFO:tensorflow:Assets written to: /home/cam/Documents/Enceladus/notebooks/wandb/run-20221102_184500-3969aajz/files/model-best/assets\n"
     ]
    },
    {
     "name": "stderr",
     "output_type": "stream",
     "text": [
      "INFO:tensorflow:Assets written to: /home/cam/Documents/Enceladus/notebooks/wandb/run-20221102_184500-3969aajz/files/model-best/assets\n",
      "\u001b[34m\u001b[1mwandb\u001b[0m: Adding directory to artifact (/home/cam/Documents/Enceladus/notebooks/wandb/run-20221102_184500-3969aajz/files/model-best)... Done. 0.4s\n"
     ]
    },
    {
     "name": "stdout",
     "output_type": "stream",
     "text": [
      "6562/6562 [==============================] - 173s 26ms/step - loss: 0.1709 - mae: 0.2979 - val_loss: 0.1913 - val_mae: 0.3051 - lr: 0.0010\n"
     ]
    },
    {
     "name": "stderr",
     "output_type": "stream",
     "text": [
      "WARNING:absl:Found untraced functions such as _jit_compiled_convolution_op, _jit_compiled_convolution_op, _jit_compiled_convolution_op, _jit_compiled_convolution_op, _jit_compiled_convolution_op while saving (showing 5 of 24). These functions will not be directly callable after loading.\n"
     ]
    },
    {
     "name": "stdout",
     "output_type": "stream",
     "text": [
      "INFO:tensorflow:Assets written to: enceladus_model/assets\n"
     ]
    },
    {
     "name": "stderr",
     "output_type": "stream",
     "text": [
      "INFO:tensorflow:Assets written to: enceladus_model/assets\n"
     ]
    }
   ],
   "source": [
    "from Enceladus.jobs import TrainingPipeline\n",
    "from Enceladus.utils import GetConfiguration\n",
    "\n",
    "pipeline, model, sweep = GetConfiguration().run('config.ini')\n",
    "worker = TrainingPipeline(\n",
    "    config=pipeline,\n",
    "    model_config=model,\n",
    "    sweep_config=sweep,\n",
    "    no_sweep=True,\n",
    ")\n",
    "worker.run()"
   ]
  },
  {
   "cell_type": "code",
   "execution_count": null,
   "metadata": {},
   "outputs": [],
   "source": [
    "import keras\n",
    "import numpy as np\n",
    "import tensorflow as tf\n",
    "from Enceladus.utils import RecordsHandler\n",
    "\n",
    "model = keras.models.load_model('enceladus_model')"
   ]
  },
  {
   "cell_type": "code",
   "execution_count": null,
   "metadata": {},
   "outputs": [],
   "source": [
    "handler = RecordsHandler(data_dir='/home/cam/Documents/database_tools/data-2022-10-28/mimic3/')\n",
    "dataset = handler.read_records(n_cores=10, AUTOTUNE=tf.data.AUTOTUNE)\n",
    "test = dataset['test']\n",
    "\n",
    "ppg = []\n",
    "abp = []\n",
    "for p, a in test.take(10):\n",
    "    ppg.append(p)\n",
    "    abp.append(a)\n",
    "ppg = np.array(ppg)\n",
    "abp = np.array(abp)"
   ]
  },
  {
   "cell_type": "code",
   "execution_count": null,
   "metadata": {},
   "outputs": [],
   "source": [
    "model.predict(ppg).shape"
   ]
  }
 ],
 "metadata": {
  "kernelspec": {
   "display_name": "Python 3.8.13 ('enceladus-KRa0cCkj-py3.8')",
   "language": "python",
   "name": "python3"
  },
  "language_info": {
   "codemirror_mode": {
    "name": "ipython",
    "version": 3
   },
   "file_extension": ".py",
   "mimetype": "text/x-python",
   "name": "python",
   "nbconvert_exporter": "python",
   "pygments_lexer": "ipython3",
   "version": "3.8.13"
  },
  "vscode": {
   "interpreter": {
    "hash": "5ade12cb1b75b1f42951472efc0610a14d58a4335c0c3e2443ae63ff35fd8ec0"
   }
  }
 },
 "nbformat": 4,
 "nbformat_minor": 2
}
