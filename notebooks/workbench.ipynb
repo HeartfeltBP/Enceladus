{
 "cells": [
  {
   "cell_type": "code",
   "execution_count": null,
   "metadata": {},
   "outputs": [],
   "source": [
    "import os\n",
    "import numpy as np\n",
    "from src.jobs import Train\n",
    "\n",
    "repo_dir = '/media/cam/CAPSTONEDB/Enceladus/'\n",
    "os.chdir(repo_dir)\n",
    "\n",
    "args = dict(\n",
    "    seed=np.random.seed(69),\n",
    "    records_dir='/home/cam/Documents/database_tools/data-2022-10-17/mimic3/',\n",
    "    out_dir='output/',\n",
    "    model_dir='model/',\n",
    "    use_multiprocessing=True,\n",
    "    val_steps=None,\n",
    "    steps_per_epoch=None,\n",
    "    test_steps=None,\n",
    "    use_wandb_tracking=False,\n",
    "    wandb_entity=None,\n",
    "    wandb_project=None,\n",
    "    epochs=100,\n",
    "    batch_size=4,\n",
    "    learning_rate=0.0001,\n",
    "    es_patience=5,\n",
    ")\n",
    "\n",
    "Train(args=args).run()"
   ]
  }
 ],
 "metadata": {
  "kernelspec": {
   "display_name": "Python 3.10.7 ('enceladus-0uGqWroh-py3.10')",
   "language": "python",
   "name": "python3"
  },
  "language_info": {
   "codemirror_mode": {
    "name": "ipython",
    "version": 3
   },
   "file_extension": ".py",
   "mimetype": "text/x-python",
   "name": "python",
   "nbconvert_exporter": "python",
   "pygments_lexer": "ipython3",
   "version": "3.10.8"
  },
  "vscode": {
   "interpreter": {
    "hash": "31d758b6e0cf61773b49b883100a325c695e10961cbe0d83c9f6c5ee7b84057f"
   }
  }
 },
 "nbformat": 4,
 "nbformat_minor": 2
}
