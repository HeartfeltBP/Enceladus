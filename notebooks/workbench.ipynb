{
 "cells": [
  {
   "cell_type": "code",
   "execution_count": null,
   "metadata": {},
   "outputs": [],
   "source": [
    "from DeepBP.train import Train\n",
    "\n",
    "args = {\n",
    "    'out_dir'            : 'output/',\n",
    "    'model_dir'          : 'model/',\n",
    "    'es_patience'        : 5,\n",
    "    'use_wandb_tracking' : False,\n",
    "    'wandb_entity'       : None,\n",
    "    'wandb_project'      : None,    \n",
    "}\n",
    "\n",
    "Train(args=args).run()"
   ]
  },
  {
   "cell_type": "code",
   "execution_count": null,
   "metadata": {},
   "outputs": [],
   "source": [
    "\n",
    "\n",
    "# model = create_model()\n",
    "# model.summary()\n",
    "\n",
    "# abp = pd.read_csv('data/abp_data.csv', index_col='index')\n",
    "# abp = abp.iloc[1:58652]\n",
    "# abp.drop(labels='sample_id', axis=1, inplace=True)\n",
    "# print(len(abp))\n",
    "\n",
    "# pleth = pd.read_csv('data/pleth_data.csv', index_col='index')\n",
    "# pleth.drop(index=[0, 58652], inplace=True)\n",
    "# pleth.drop(labels='sample_id', axis=1, inplace=True)\n",
    "# print(len(pleth))\n",
    "\n",
    "# labels = np.array([np.array([abp.iloc[i]['sbp'], abp.iloc[i]['dbp']]) for i in range(len(abp))])\n",
    "# print(labels.shape)\n",
    "\n",
    "# windows = np.array([np.array(pleth.iloc[i]).reshape((625, 1)) for i in range(len(pleth))])\n",
    "# print(windows.shape)\n",
    "\n",
    "# dataset = tf.data.Dataset.from_tensor_slices((windows, labels))\n",
    "# dataset = dataset.shuffle(buffer_size=1000, seed=69420).batch(32).cache().prefetch(buffer_size=tf.data.AUTOTUNE)\n",
    "\n",
    "# train_ds_size = int(0.70 * len(labels))\n",
    "# val_ds_size = int(0.15 * len(labels))\n",
    "\n",
    "# train_ds = dataset.take(train_ds_size)\n",
    "# remaining = dataset.skip(train_ds_size)  \n",
    "# val_ds = remaining.take(val_ds_size)\n",
    "# test_ds = remaining.skip(val_ds_size)"
   ]
  }
 ],
 "metadata": {
  "kernelspec": {
   "display_name": "Python 3.8.10 ('DeepLearning')",
   "language": "python",
   "name": "python3"
  },
  "language_info": {
   "codemirror_mode": {
    "name": "ipython",
    "version": 3
   },
   "file_extension": ".py",
   "mimetype": "text/x-python",
   "name": "python",
   "nbconvert_exporter": "python",
   "pygments_lexer": "ipython3",
   "version": "3.8.10"
  },
  "vscode": {
   "interpreter": {
    "hash": "246749377ead2fdda3952347e30ec15afb602bbe25c9b1f20f37c715b8d2d303"
   }
  }
 },
 "nbformat": 4,
 "nbformat_minor": 2
}
