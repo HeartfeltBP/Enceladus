{
 "cells": [
  {
   "cell_type": "code",
   "execution_count": null,
   "metadata": {},
   "outputs": [],
   "source": [
    "import os\n",
    "import numpy as np\n",
    "from DeepBP.train import Train\n",
    "\n",
    "repo_dir = '/home/cam/Documents/DeepBP/'\n",
    "os.chdir(repo_dir)\n",
    "\n",
    "args = {\n",
    "    'seed'                : np.random.seed(69),\n",
    "    'tfrecords_dir'       : '/home/cam/Documents/database_tools/data-2022-09-18/records/',\n",
    "    'data_method'         : 'PLETH, ABP Values',\n",
    "    'out_dir'             : 'output/',\n",
    "    'model_dir'           : 'model/',\n",
    "    'epochs'              : 10,\n",
    "    'batch_size'          : 32,\n",
    "    'val_steps'           : None,\n",
    "    'steps_per_epoch'     : None,\n",
    "    'es_patience'         : 3,\n",
    "    'test_steps'          : None,\n",
    "    'use_wandb_tracking'  : False,\n",
    "    'wandb_entity'        : None,\n",
    "    'wandb_project'       : None,\n",
    "    'use_multiprocessing' : False, \n",
    "}\n",
    "\n",
    "Train(args=args).run()"
   ]
  },
  {
   "cell_type": "code",
   "execution_count": null,
   "metadata": {},
   "outputs": [],
   "source": [
    "import os\n",
    "import keras\n",
    "import tensorflow as tf\n",
    "from database_tools.utils import ReadTFRecords\n",
    "\n",
    "repo_dir = '/home/cam/Documents/DeepBP/'\n",
    "os.chdir(repo_dir)\n",
    "\n",
    "model = keras.models.load_model('output/model/')"
   ]
  },
  {
   "cell_type": "code",
   "execution_count": null,
   "metadata": {},
   "outputs": [],
   "source": [
    "data_splits = ReadTFRecords(data_dir=f'../database_tools/data-2022-09-18/records/',\n",
    "                            method='PLETH, ABP Values',\n",
    "                            n_cores=10,\n",
    "                            AUTOTUNE=tf.data.experimental.AUTOTUNE).run()\n",
    "train = data_splits['train']\n",
    "val = data_splits['val']\n",
    "test = data_splits['test']"
   ]
  },
  {
   "cell_type": "code",
   "execution_count": null,
   "metadata": {},
   "outputs": [],
   "source": [
    "preds = []\n",
    "y = []\n",
    "for feature in test.take(5000):\n",
    "    feature\n",
    "    x = tf.expand_dims(feature[0], axis=0)\n",
    "    y.append(feature[1])\n",
    "    preds.append(model.predict(x))"
   ]
  },
  {
   "cell_type": "code",
   "execution_count": null,
   "metadata": {},
   "outputs": [],
   "source": [
    "sbp_true = [float(label) for label, _ in y]\n",
    "dbp_true = [float(label) for _, label in y]\n",
    "sbp_pred = [float(label[0][0]) for label in preds]\n",
    "dbp_pred = [float(label[0][1]) for label in preds]"
   ]
  },
  {
   "cell_type": "code",
   "execution_count": null,
   "metadata": {},
   "outputs": [],
   "source": [
    "def denormalize(x):\n",
    "    return (x * (250 - 25)) + 25\n",
    "\n",
    "sbp_true = map(denormalize, sbp_true)\n",
    "dbp_true = map(denormalize, dbp_true)\n",
    "sbp_pred = map(denormalize, sbp_pred)\n",
    "dbp_pred = map(denormalize, dbp_pred)"
   ]
  },
  {
   "cell_type": "code",
   "execution_count": null,
   "metadata": {},
   "outputs": [],
   "source": [
    "import pandas as pd\n",
    "\n",
    "df = pd.DataFrame({'true': sbp_true,\n",
    "                   'pred': sbp_pred})\n",
    "df.plot.scatter(x='pred', y='true')"
   ]
  },
  {
   "cell_type": "code",
   "execution_count": null,
   "metadata": {},
   "outputs": [],
   "source": [
    "df = pd.DataFrame({'true': dbp_true,\n",
    "                   'pred': dbp_pred})\n",
    "df.plot.scatter(x='pred', y='true')"
   ]
  },
  {
   "cell_type": "code",
   "execution_count": null,
   "metadata": {},
   "outputs": [],
   "source": [
    "from DeepBP.utils.models import create_model\n",
    "\n",
    "config = {\n",
    "    'model'         : 'deepbp_2',\n",
    "    'input_shape'   : (625, 1),\n",
    "    'lr'            : 0.00001,\n",
    "    'decay'         : 0.00001,\n",
    "    'kernel_1'      : (7),\n",
    "    'filters_1'     : 64,\n",
    "    'stride_1'     : (2),\n",
    "    'max_pooling_1' : (3),\n",
    "    'kernel_2'      : [(3), (3)],\n",
    "    'filters_2'     : [64, 64],\n",
    "    'kernel_3'      : [(3), (3)],\n",
    "    'filters_3'     : [128, 128],\n",
    "    'stride_3'     : (2),\n",
    "    'kernel_4'      : [(3), (3)],\n",
    "    'filters_4'     : [256, 256],\n",
    "    'stride_4'     : (2),\n",
    "    'kernel_5'      : [(3), (3)],\n",
    "    'filters_5'     : [512, 512],\n",
    "    'stride_5'     : (2),\n",
    "    'pooling'       : (2),\n",
    "    'dense_0'       : 1024,\n",
    "    'frame_length'  : 125,\n",
    "    'frame_step'    : 8,\n",
    "    'st_units'      : 64,\n",
    "    'cnn_st_units'  : 64,\n",
    "    'dropout_1'     : 0.15,\n",
    "    'dropout_2'     : 0.15,\n",
    "    'dense_1'       : 32,\n",
    "    'dense_2'       : 32,\n",
    "}\n",
    "\n",
    "model = create_model(config)\n",
    "model.summary()"
   ]
  },
  {
   "cell_type": "code",
   "execution_count": null,
   "metadata": {},
   "outputs": [],
   "source": [
    "# [(W - K + 2P) / S ] + 1\n",
    "\n",
    "# input\n",
    "x = 625\n",
    "\n",
    "# kernel_1, strides_1\n",
    "x = ((x - 10 + (2 * 0)) / 3) + 1\n",
    "x\n"
   ]
  }
 ],
 "metadata": {
  "kernelspec": {
   "display_name": "Python 3.8.10 ('DeepLearning')",
   "language": "python",
   "name": "python3"
  },
  "language_info": {
   "codemirror_mode": {
    "name": "ipython",
    "version": 3
   },
   "file_extension": ".py",
   "mimetype": "text/x-python",
   "name": "python",
   "nbconvert_exporter": "python",
   "pygments_lexer": "ipython3",
   "version": "3.8.10"
  },
  "vscode": {
   "interpreter": {
    "hash": "246749377ead2fdda3952347e30ec15afb602bbe25c9b1f20f37c715b8d2d303"
   }
  }
 },
 "nbformat": 4,
 "nbformat_minor": 2
}
