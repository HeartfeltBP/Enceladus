{
 "cells": [
  {
   "cell_type": "code",
   "execution_count": null,
   "metadata": {},
   "outputs": [],
   "source": [
    "import os\n",
    "import numpy as np\n",
    "import pickle as pkl\n",
    "from src.jobs import Train, TrainingConfiguration\n",
    "from src.jobs.Train_new import TrainingPipeline\n",
    "\n",
    "repo_dir = '/home/cam/Documents/Enceladus/'\n",
    "os.chdir(repo_dir)\n",
    "\n",
    "training_args, model_args = TrainingConfiguration().get('notebooks/config.ini')\n",
    "TrainingPipeline(training_args, model_args).run()"
   ]
  },
  {
   "cell_type": "markdown",
   "metadata": {},
   "source": [
    "for a in /sys/bus/pci/devices/*; do echo 0 | sudo tee -a $a/numa_node; done"
   ]
  },
  {
   "cell_type": "code",
   "execution_count": null,
   "metadata": {},
   "outputs": [],
   "source": [
    "# true = np.array([i for i in next(iter(test))]).reshape(2, 32, 256)\n",
    "\n",
    "# from re import X\n",
    "# import pandas as pd\n",
    "# import pickle as pkl\n",
    "\n",
    "# pd.options.plotting.backend = 'plotly'\n",
    "\n",
    "# with open('data-2022-10-17/mimic3/abp_scaler.pkl', 'rb') as f:\n",
    "#     scaler = pkl.load(f)\n",
    "\n",
    "# i = 13\n",
    "# x = scaler.inverse_transform(pred[i, :, 0].reshape(1, -1)).flatten()\n",
    "# y = scaler.inverse_transform(true[1, i, :].reshape(1, -1)).flatten()\n",
    "# fig = pd.DataFrame(dict(pred=x, true=y)).plot()\n",
    "# fig.update_layout(width=800)\n",
    "# fig"
   ]
  }
 ],
 "metadata": {
  "kernelspec": {
   "display_name": "Python 3.8.13 ('enceladus-KRa0cCkj-py3.8')",
   "language": "python",
   "name": "python3"
  },
  "language_info": {
   "codemirror_mode": {
    "name": "ipython",
    "version": 3
   },
   "file_extension": ".py",
   "mimetype": "text/x-python",
   "name": "python",
   "nbconvert_exporter": "python",
   "pygments_lexer": "ipython3",
   "version": "3.8.13"
  },
  "vscode": {
   "interpreter": {
    "hash": "5ade12cb1b75b1f42951472efc0610a14d58a4335c0c3e2443ae63ff35fd8ec0"
   }
  }
 },
 "nbformat": 4,
 "nbformat_minor": 2
}
