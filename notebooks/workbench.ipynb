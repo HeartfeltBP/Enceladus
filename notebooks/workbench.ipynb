{
 "cells": [
  {
   "cell_type": "code",
   "execution_count": null,
   "metadata": {},
   "outputs": [],
   "source": [
    "import os\n",
    "import numpy as np\n",
    "from src.jobs import Train\n",
    "\n",
    "repo_dir = '/home/cam/Documents/Enceladus/'\n",
    "os.chdir(repo_dir)\n",
    "\n",
    "args = dict(\n",
    "    seed=np.random.seed(69),\n",
    "    records_dir='/media/cam/CAPSTONEDB/database_tools/data-2022-10-17/mimic3/',\n",
    "    out_dir='output/',\n",
    "    model_dir='model/',\n",
    "    use_multiprocessing=True,\n",
    "    val_steps=None,\n",
    "    steps_per_epoch=None,\n",
    "    test_steps=None,\n",
    "    use_wandb_tracking=False,\n",
    "    wandb_entity=None,\n",
    "    wandb_project=None,\n",
    "    epochs=100,\n",
    "    batch_size=32,\n",
    "    learning_rate=0.0001,\n",
    "    es_patience=5,\n",
    ")\n",
    "\n",
    "Train(args=args).run()"
   ]
  }
 ],
 "metadata": {
  "kernelspec": {
   "display_name": "Python 3.10.8 ('.venv': poetry)",
   "language": "python",
   "name": "python3"
  },
  "language_info": {
   "codemirror_mode": {
    "name": "ipython",
    "version": 3
   },
   "file_extension": ".py",
   "mimetype": "text/x-python",
   "name": "python",
   "nbconvert_exporter": "python",
   "pygments_lexer": "ipython3",
   "version": "3.10.8"
  },
  "vscode": {
   "interpreter": {
    "hash": "ced67b9979696d2ad2b9deff43a131380227982369582eaf78039eb5e259ba4f"
   }
  }
 },
 "nbformat": 4,
 "nbformat_minor": 2
}
