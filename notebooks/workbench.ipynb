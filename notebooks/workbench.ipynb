{
 "cells": [
  {
   "cell_type": "code",
   "execution_count": null,
   "metadata": {},
   "outputs": [],
   "source": [
    "import os\n",
    "import numpy as np\n",
    "from DeepBP.train import Train\n",
    "\n",
    "repo_dir = '/home/cam/Documents/DeepBP/'\n",
    "os.chdir(repo_dir)\n",
    "\n",
    "args = {\n",
    "    'seed'                : np.random.seed(69),\n",
    "    'tfrecords_dir'       : '/home/cam/Documents/database_tools/data-2022-09-18/records/',\n",
    "    'data_method'         : 'PLETH, ABP Values',\n",
    "    'out_dir'             : 'output/',\n",
    "    'model_dir'           : 'model/',\n",
    "    'epochs'              : 20,\n",
    "    'batch_size'          : 32,\n",
    "    'val_steps'           : None,\n",
    "    'steps_per_epoch'     : None,\n",
    "    'es_patience'         : 3,\n",
    "    'test_steps'          : None,\n",
    "    'use_wandb_tracking'  : False,\n",
    "    'wandb_entity'        : None,\n",
    "    'wandb_project'       : None,\n",
    "    'use_multiprocessing' : False, \n",
    "}\n",
    "\n",
    "Train(args=args).run()"
   ]
  }
 ],
 "metadata": {
  "kernelspec": {
   "display_name": "Python 3.8.10 ('DeepLearning')",
   "language": "python",
   "name": "python3"
  },
  "language_info": {
   "codemirror_mode": {
    "name": "ipython",
    "version": 3
   },
   "file_extension": ".py",
   "mimetype": "text/x-python",
   "name": "python",
   "nbconvert_exporter": "python",
   "pygments_lexer": "ipython3",
   "version": "3.8.10"
  },
  "vscode": {
   "interpreter": {
    "hash": "246749377ead2fdda3952347e30ec15afb602bbe25c9b1f20f37c715b8d2d303"
   }
  }
 },
 "nbformat": 4,
 "nbformat_minor": 2
}
