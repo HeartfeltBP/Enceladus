{
 "cells": [
  {
   "cell_type": "code",
   "execution_count": null,
   "metadata": {},
   "outputs": [],
   "source": [
    "from Enceladus.jobs import TrainingPipeline\n",
    "from Enceladus.utils import GetConfiguration\n",
    "\n",
    "pipeline, model, sweep = GetConfiguration().run('../config.ini')\n",
    "worker = TrainingPipeline(\n",
    "    config=pipeline,\n",
    "    model_config=model,\n",
    "    sweep_config=sweep,\n",
    "    no_sweep=True,\n",
    ")\n",
    "worker.run()"
   ]
  },
  {
   "cell_type": "code",
   "execution_count": null,
   "metadata": {},
   "outputs": [],
   "source": [
    "from Enceladus.models import MultiModalUNet\n",
    "\n",
    "model['dropout_1'] = 0.5\n",
    "model['dropout_2'] = 0.5\n",
    "model = MultiModalUNet(model).init()\n",
    "model.summary()"
   ]
  },
  {
   "cell_type": "code",
   "execution_count": null,
   "metadata": {},
   "outputs": [],
   "source": [
    "import wandb\n",
    "\n",
    "wandb.finish()"
   ]
  },
  {
   "cell_type": "code",
   "execution_count": null,
   "metadata": {},
   "outputs": [],
   "source": [
    "from Enceladus.models.MultiModelUNet import MultiModalUNet\n",
    "from Enceladus.utils import GetConfiguration\n",
    "\n",
    "pipeline, model_c, sweep = GetConfiguration().run('config.ini')\n",
    "model_c['dropout_1'] = 0.5\n",
    "model_c['dropout_2'] = 0.5\n",
    "model = MultiModalUNet(model_c).init()"
   ]
  },
  {
   "cell_type": "code",
   "execution_count": null,
   "metadata": {},
   "outputs": [],
   "source": [
    "import tensorflow as tf\n",
    "\n",
    "tf.keras.utils.plot_model(model)"
   ]
  },
  {
   "cell_type": "code",
   "execution_count": null,
   "metadata": {},
   "outputs": [],
   "source": [
    "import numpy as np\n",
    "\n",
    "np.gradient([1, 1, 4, -1, 3], 1)"
   ]
  },
  {
   "cell_type": "code",
   "execution_count": null,
   "metadata": {},
   "outputs": [],
   "source": [
    "import keras\n",
    "import numpy as np\n",
    "import tensorflow as tf\n",
    "from Enceladus.utils import RecordsHandler\n",
    "\n",
    "model = keras.models.load_model('enceladus_model')"
   ]
  },
  {
   "cell_type": "code",
   "execution_count": null,
   "metadata": {},
   "outputs": [],
   "source": [
    "handler = RecordsHandler(data_dir='/home/cam/Documents/database_tools/data-2022-10-28/mimic3/')\n",
    "dataset = handler.read_records(n_cores=10, AUTOTUNE=tf.data.AUTOTUNE)\n",
    "test = dataset['test']\n",
    "\n",
    "ppg = []\n",
    "abp = []\n",
    "for p, a in test.take(10):\n",
    "    ppg.append(p)\n",
    "    abp.append(a)\n",
    "ppg = np.array(ppg)\n",
    "abp = np.array(abp)"
   ]
  },
  {
   "cell_type": "code",
   "execution_count": null,
   "metadata": {},
   "outputs": [],
   "source": [
    "model.predict(ppg).shape"
   ]
  }
 ],
 "metadata": {
  "kernelspec": {
   "display_name": "Python 3.8.13 ('database-tools-Qo_l_FwJ-py3.8')",
   "language": "python",
   "name": "python3"
  },
  "language_info": {
   "codemirror_mode": {
    "name": "ipython",
    "version": 3
   },
   "file_extension": ".py",
   "mimetype": "text/x-python",
   "name": "python",
   "nbconvert_exporter": "python",
   "pygments_lexer": "ipython3",
   "version": "3.8.13"
  },
  "vscode": {
   "interpreter": {
    "hash": "c826fe4c3072c6c8679b0c2c5bfc4e59fc902350ea20ac6cce5df13884cb183b"
   }
  }
 },
 "nbformat": 4,
 "nbformat_minor": 2
}
