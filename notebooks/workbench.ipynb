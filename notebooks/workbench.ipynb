{
 "cells": [
  {
   "cell_type": "code",
   "execution_count": null,
   "metadata": {},
   "outputs": [],
   "source": [
    "import os\n",
    "import numpy as np\n",
    "import pickle as pkl\n",
    "from src.jobs import Train\n",
    "\n",
    "repo_dir = '/home/cam/Documents/Enceladus/'\n",
    "os.chdir(repo_dir)\n",
    "\n",
    "args = dict(\n",
    "    seed=np.random.seed(69),\n",
    "    records_dir='/media/cam/CAPSTONEDB/database_tools/data-2022-10-17/mimic3/',\n",
    "    out_dir='output/',\n",
    "    model_dir='model/',\n",
    "    use_multiprocessing=True,\n",
    "    val_steps=None,\n",
    "    steps_per_epoch=None,\n",
    "    test_steps=None,\n",
    "    use_wandb_tracking=False,\n",
    "    wandb_entity=None,\n",
    "    wandb_project=None,\n",
    "    epochs=100,\n",
    "    batch_size=32,\n",
    "    learning_rate=0.0001,\n",
    "    es_patience=5,\n",
    ")\n",
    "\n",
    "pred, test, model = Train(args=args).run()\n",
    "\n",
    "with open('pred.pkl', 'wb') as f:\n",
    "    pkl.dump(pred)\n",
    "\n",
    "with open('test.pkl', 'wb') as f:\n",
    "    pkl.dump(test)\n",
    "\n",
    "with open('model.pkl', 'wb') as f:\n",
    "    pkl.dump(model)"
   ]
  },
  {
   "cell_type": "code",
   "execution_count": null,
   "metadata": {},
   "outputs": [],
   "source": [
    "import numpy as np\n",
    "import pandas as pd\n",
    "import pickle as pkl\n",
    "\n",
    "pd.options.plotting.backend = 'plotly'\n",
    "\n",
    "with open('../test.pkl', 'rb') as f:\n",
    "    test = pkl.load(f)\n",
    "\n",
    "with open('../pred.pkl', 'rb') as f:\n",
    "    pred = pkl.load(f)"
   ]
  },
  {
   "cell_type": "code",
   "execution_count": null,
   "metadata": {},
   "outputs": [],
   "source": [
    "idx = 56\n",
    "i = idx % 32\n",
    "j = idx // 32\n",
    "fig = pd.DataFrame(dict(pred=pred[idx, :, 0], true=np.array(test)[j, 1, i, :, 0])).plot()\n",
    "fig.update_layout(\n",
    "    width=800,\n",
    "    template='plotly_dark',\n",
    "    xaxis=dict(\n",
    "        title='Samples',\n",
    "    ),\n",
    "    yaxis=dict(\n",
    "        title='Amplitude (mmHg standardized)',\n",
    "    )\n",
    ")\n",
    "fig"
   ]
  },
  {
   "cell_type": "code",
   "execution_count": null,
   "metadata": {},
   "outputs": [],
   "source": [
    "i, j"
   ]
  },
  {
   "cell_type": "code",
   "execution_count": null,
   "metadata": {},
   "outputs": [],
   "source": [
    "37 // 32"
   ]
  }
 ],
 "metadata": {
  "kernelspec": {
   "display_name": "Python 3.8.8 ('MachineLearning')",
   "language": "python",
   "name": "python3"
  },
  "language_info": {
   "codemirror_mode": {
    "name": "ipython",
    "version": 3
   },
   "file_extension": ".py",
   "mimetype": "text/x-python",
   "name": "python",
   "nbconvert_exporter": "python",
   "pygments_lexer": "ipython3",
   "version": "3.8.8"
  },
  "vscode": {
   "interpreter": {
    "hash": "66fa1021d783c3b7637dd1cac3f6767c2928892b78bf28b169c15020a155e2c1"
   }
  }
 },
 "nbformat": 4,
 "nbformat_minor": 2
}
