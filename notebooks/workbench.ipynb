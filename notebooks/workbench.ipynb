{
 "cells": [
  {
   "cell_type": "code",
   "execution_count": 1,
   "metadata": {},
   "outputs": [
    {
     "name": "stderr",
     "output_type": "stream",
     "text": [
      "Starting training pipeline\n",
      "TensorFlow: setting up strategy\n",
      "2022-10-17 20:23:19.403651: I tensorflow/stream_executor/cuda/cuda_gpu_executor.cc:975] successful NUMA node read from SysFS had negative value (-1), but there must be at least one NUMA node, so returning NUMA node zero\n",
      "Using strategy: <tensorflow.python.distribute.one_device_strategy.OneDeviceStrategy object at 0x7fe5f0af72b0>\n",
      "2022-10-17 20:23:19.425434: I tensorflow/stream_executor/cuda/cuda_gpu_executor.cc:975] successful NUMA node read from SysFS had negative value (-1), but there must be at least one NUMA node, so returning NUMA node zero\n",
      "2022-10-17 20:23:19.425624: I tensorflow/stream_executor/cuda/cuda_gpu_executor.cc:975] successful NUMA node read from SysFS had negative value (-1), but there must be at least one NUMA node, so returning NUMA node zero\n",
      "2022-10-17 20:23:19.426124: I tensorflow/core/platform/cpu_feature_guard.cc:193] This TensorFlow binary is optimized with oneAPI Deep Neural Network Library (oneDNN) to use the following CPU instructions in performance-critical operations:  AVX2 FMA\n",
      "To enable them in other operations, rebuild TensorFlow with the appropriate compiler flags.\n",
      "2022-10-17 20:23:19.426854: I tensorflow/stream_executor/cuda/cuda_gpu_executor.cc:975] successful NUMA node read from SysFS had negative value (-1), but there must be at least one NUMA node, so returning NUMA node zero\n",
      "2022-10-17 20:23:19.427027: I tensorflow/stream_executor/cuda/cuda_gpu_executor.cc:975] successful NUMA node read from SysFS had negative value (-1), but there must be at least one NUMA node, so returning NUMA node zero\n",
      "2022-10-17 20:23:19.427175: I tensorflow/stream_executor/cuda/cuda_gpu_executor.cc:975] successful NUMA node read from SysFS had negative value (-1), but there must be at least one NUMA node, so returning NUMA node zero\n",
      "2022-10-17 20:23:19.753253: I tensorflow/stream_executor/cuda/cuda_gpu_executor.cc:975] successful NUMA node read from SysFS had negative value (-1), but there must be at least one NUMA node, so returning NUMA node zero\n",
      "2022-10-17 20:23:19.753455: I tensorflow/stream_executor/cuda/cuda_gpu_executor.cc:975] successful NUMA node read from SysFS had negative value (-1), but there must be at least one NUMA node, so returning NUMA node zero\n",
      "2022-10-17 20:23:19.753604: I tensorflow/stream_executor/cuda/cuda_gpu_executor.cc:975] successful NUMA node read from SysFS had negative value (-1), but there must be at least one NUMA node, so returning NUMA node zero\n",
      "2022-10-17 20:23:19.753734: I tensorflow/core/common_runtime/gpu/gpu_device.cc:1532] Created device /job:localhost/replica:0/task:0/device:GPU:0 with 1511 MB memory:  -> device: 0, name: NVIDIA GeForce RTX 3070, pci bus id: 0000:01:00.0, compute capability: 8.6\n",
      "\n",
      "Setting up callbacks.\n",
      "\n",
      "Logging TensorBoard to output/tensorboard/.\n",
      "\n",
      "Callbacks are all set up.\n",
      "Starting training.\n"
     ]
    },
    {
     "name": "stdout",
     "output_type": "stream",
     "text": [
      "Reading train split.\n",
      "Reading val split.\n",
      "Reading test split.\n",
      "Epoch 1/100\n"
     ]
    },
    {
     "name": "stderr",
     "output_type": "stream",
     "text": [
      "2022-10-17 20:23:25.704499: I tensorflow/stream_executor/cuda/cuda_dnn.cc:384] Loaded cuDNN version 8303\n",
      "2022-10-17 20:23:27.412064: I tensorflow/core/platform/default/subprocess.cc:304] Start cannot spawn child process: No such file or directory\n",
      "2022-10-17 20:23:27.412647: I tensorflow/core/platform/default/subprocess.cc:304] Start cannot spawn child process: No such file or directory\n",
      "2022-10-17 20:23:27.412664: W tensorflow/stream_executor/gpu/asm_compiler.cc:80] Couldn't get ptxas version string: INTERNAL: Couldn't invoke ptxas --version\n",
      "2022-10-17 20:23:27.413033: I tensorflow/core/platform/default/subprocess.cc:304] Start cannot spawn child process: No such file or directory\n",
      "2022-10-17 20:23:27.413069: W tensorflow/stream_executor/gpu/redzone_allocator.cc:314] INTERNAL: Failed to launch ptxas\n",
      "Relying on driver to perform ptx compilation. \n",
      "Modify $PATH to customize ptxas location.\n",
      "This message will be only logged once.\n"
     ]
    },
    {
     "name": "stdout",
     "output_type": "stream",
     "text": [
      "    264/Unknown - 12s 16ms/step - loss: 0.6690 - mae: 0.6340"
     ]
    }
   ],
   "source": [
    "import os\n",
    "import numpy as np\n",
    "from src.jobs import Train\n",
    "\n",
    "repo_dir = '/media/cam/CAPSTONEDB/Enceladus/'\n",
    "os.chdir(repo_dir)\n",
    "\n",
    "args = dict(\n",
    "    seed=np.random.seed(69),\n",
    "    records_dir='/media/cam/CAPSTONEDB/database_tools/data-2022-10-17/mimic3/',\n",
    "    out_dir='output/',\n",
    "    model_dir='model/',\n",
    "    use_multiprocessing=True,\n",
    "    val_steps=None,\n",
    "    steps_per_epoch=None,\n",
    "    test_steps=None,\n",
    "    use_wandb_tracking=False,\n",
    "    wandb_entity=None,\n",
    "    wandb_project=None,\n",
    "    epochs=100,\n",
    "    batch_size=4,\n",
    "    learning_rate=0.0001,\n",
    "    es_patience=5,\n",
    ")\n",
    "\n",
    "Train(args=args).run()"
   ]
  }
 ],
 "metadata": {
  "kernelspec": {
   "display_name": "Python 3.10.7 ('enceladus-0uGqWroh-py3.10')",
   "language": "python",
   "name": "python3"
  },
  "language_info": {
   "codemirror_mode": {
    "name": "ipython",
    "version": 3
   },
   "file_extension": ".py",
   "mimetype": "text/x-python",
   "name": "python",
   "nbconvert_exporter": "python",
   "pygments_lexer": "ipython3",
   "version": "3.10.8"
  },
  "vscode": {
   "interpreter": {
    "hash": "31d758b6e0cf61773b49b883100a325c695e10961cbe0d83c9f6c5ee7b84057f"
   }
  }
 },
 "nbformat": 4,
 "nbformat_minor": 2
}
