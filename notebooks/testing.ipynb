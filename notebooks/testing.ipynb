{
 "cells": [
  {
   "cell_type": "code",
   "execution_count": 1,
   "metadata": {},
   "outputs": [
    {
     "name": "stderr",
     "output_type": "stream",
     "text": [
      "2022-12-15 15:54:18.893919: I tensorflow/stream_executor/cuda/cuda_gpu_executor.cc:975] successful NUMA node read from SysFS had negative value (-1), but there must be at least one NUMA node, so returning NUMA node zero\n",
      "2022-12-15 15:54:18.945275: I tensorflow/stream_executor/cuda/cuda_gpu_executor.cc:975] successful NUMA node read from SysFS had negative value (-1), but there must be at least one NUMA node, so returning NUMA node zero\n",
      "2022-12-15 15:54:18.945544: I tensorflow/stream_executor/cuda/cuda_gpu_executor.cc:975] successful NUMA node read from SysFS had negative value (-1), but there must be at least one NUMA node, so returning NUMA node zero\n",
      "2022-12-15 15:54:18.946628: I tensorflow/core/platform/cpu_feature_guard.cc:193] This TensorFlow binary is optimized with oneAPI Deep Neural Network Library (oneDNN) to use the following CPU instructions in performance-critical operations:  AVX2 FMA\n",
      "To enable them in other operations, rebuild TensorFlow with the appropriate compiler flags.\n",
      "2022-12-15 15:54:18.947603: I tensorflow/stream_executor/cuda/cuda_gpu_executor.cc:975] successful NUMA node read from SysFS had negative value (-1), but there must be at least one NUMA node, so returning NUMA node zero\n",
      "2022-12-15 15:54:18.947884: I tensorflow/stream_executor/cuda/cuda_gpu_executor.cc:975] successful NUMA node read from SysFS had negative value (-1), but there must be at least one NUMA node, so returning NUMA node zero\n",
      "2022-12-15 15:54:18.948111: I tensorflow/stream_executor/cuda/cuda_gpu_executor.cc:975] successful NUMA node read from SysFS had negative value (-1), but there must be at least one NUMA node, so returning NUMA node zero\n",
      "2022-12-15 15:54:19.669810: I tensorflow/stream_executor/cuda/cuda_gpu_executor.cc:975] successful NUMA node read from SysFS had negative value (-1), but there must be at least one NUMA node, so returning NUMA node zero\n",
      "2022-12-15 15:54:19.670077: I tensorflow/stream_executor/cuda/cuda_gpu_executor.cc:975] successful NUMA node read from SysFS had negative value (-1), but there must be at least one NUMA node, so returning NUMA node zero\n",
      "2022-12-15 15:54:19.670293: I tensorflow/stream_executor/cuda/cuda_gpu_executor.cc:975] successful NUMA node read from SysFS had negative value (-1), but there must be at least one NUMA node, so returning NUMA node zero\n",
      "2022-12-15 15:54:19.670498: I tensorflow/core/common_runtime/gpu/gpu_device.cc:1532] Created device /job:localhost/replica:0/task:0/device:GPU:0 with 5339 MB memory:  -> device: 0, name: NVIDIA GeForce RTX 3070, pci bus id: 0000:01:00.0, compute capability: 8.6\n",
      "WARNING:absl:Found untraced functions such as _jit_compiled_convolution_op, _jit_compiled_convolution_op, _jit_compiled_convolution_op, _jit_compiled_convolution_op, _jit_compiled_convolution_op while saving (showing 5 of 40). These functions will not be directly callable after loading.\n"
     ]
    },
    {
     "name": "stdout",
     "output_type": "stream",
     "text": [
      "INFO:tensorflow:Assets written to: /tmp/tmpw8a5fp07/assets\n"
     ]
    },
    {
     "name": "stderr",
     "output_type": "stream",
     "text": [
      "INFO:tensorflow:Assets written to: /tmp/tmpw8a5fp07/assets\n",
      "2022-12-15 15:54:40.272444: W tensorflow/compiler/mlir/lite/python/tf_tfl_flatbuffer_helpers.cc:362] Ignored output_format.\n",
      "2022-12-15 15:54:40.272463: W tensorflow/compiler/mlir/lite/python/tf_tfl_flatbuffer_helpers.cc:365] Ignored drop_control_dependency.\n",
      "2022-12-15 15:54:40.272906: I tensorflow/cc/saved_model/reader.cc:43] Reading SavedModel from: /tmp/tmpw8a5fp07\n",
      "2022-12-15 15:54:40.291433: I tensorflow/cc/saved_model/reader.cc:81] Reading meta graph with tags { serve }\n",
      "2022-12-15 15:54:40.291452: I tensorflow/cc/saved_model/reader.cc:122] Reading SavedModel debug info (if present) from: /tmp/tmpw8a5fp07\n",
      "2022-12-15 15:54:40.350975: I tensorflow/compiler/mlir/mlir_graph_optimization_pass.cc:354] MLIR V1 optimization pass is not enabled\n",
      "2022-12-15 15:54:40.373877: I tensorflow/cc/saved_model/loader.cc:228] Restoring SavedModel bundle.\n",
      "2022-12-15 15:54:40.733945: I tensorflow/cc/saved_model/loader.cc:212] Running initialization op on SavedModel bundle at path: /tmp/tmpw8a5fp07\n",
      "2022-12-15 15:54:40.888400: I tensorflow/cc/saved_model/loader.cc:301] SavedModel load for tags { serve }; Status: success: OK. Took 615495 microseconds.\n",
      "2022-12-15 15:54:41.206820: I tensorflow/compiler/mlir/tensorflow/utils/dump_mlir_util.cc:263] disabling MLIR crash reproducer, set env var `MLIR_CRASH_REPRODUCER_DIRECTORY` to enable.\n"
     ]
    },
    {
     "ename": "TypeError",
     "evalue": "Model format must be a ModelFormat object.",
     "output_type": "error",
     "traceback": [
      "\u001b[0;31m---------------------------------------------------------------------------\u001b[0m",
      "\u001b[0;31mTypeError\u001b[0m                                 Traceback (most recent call last)",
      "Cell \u001b[0;32mIn [1], line 16\u001b[0m\n\u001b[1;32m     13\u001b[0m model \u001b[39m=\u001b[39m keras\u001b[39m.\u001b[39mmodels\u001b[39m.\u001b[39mload_model(\u001b[39m'\u001b[39m\u001b[39m/home/cam/Documents/Enceladus/notebooks/artifacts/model-vital-bee-206:v19\u001b[39m\u001b[39m'\u001b[39m)\n\u001b[1;32m     14\u001b[0m source \u001b[39m=\u001b[39m ml\u001b[39m.\u001b[39mTFLiteGCSModelSource\u001b[39m.\u001b[39mfrom_keras_model(model)\n\u001b[0;32m---> 16\u001b[0m model \u001b[39m=\u001b[39m ml\u001b[39m.\u001b[39;49mModel(\n\u001b[1;32m     17\u001b[0m     display_name\u001b[39m=\u001b[39;49m\u001b[39m\"\u001b[39;49m\u001b[39menceladus\u001b[39;49m\u001b[39m\"\u001b[39;49m,   \u001b[39m# This is the name you use from your app to load the model.\u001b[39;49;00m\n\u001b[1;32m     18\u001b[0m     tags\u001b[39m=\u001b[39;49m[\u001b[39m\"\u001b[39;49m\u001b[39mv1\u001b[39;49m\u001b[39m\"\u001b[39;49m],             \u001b[39m# Optional tags for easier management.\u001b[39;49;00m\n\u001b[1;32m     19\u001b[0m     model_format\u001b[39m=\u001b[39;49msource)\n\u001b[1;32m     21\u001b[0m \u001b[39m# Add the model to your Firebase project and publish it\u001b[39;00m\n\u001b[1;32m     22\u001b[0m new_model \u001b[39m=\u001b[39m ml\u001b[39m.\u001b[39mcreate_model(model)\n",
      "File \u001b[0;32m~/.cache/pypoetry/virtualenvs/enceladus-KRa0cCkj-py3.8/lib/python3.8/site-packages/firebase_admin/ml.py:200\u001b[0m, in \u001b[0;36mModel.__init__\u001b[0;34m(self, display_name, tags, model_format)\u001b[0m\n\u001b[1;32m    198\u001b[0m     \u001b[39mself\u001b[39m\u001b[39m.\u001b[39mtags \u001b[39m=\u001b[39m tags\n\u001b[1;32m    199\u001b[0m \u001b[39mif\u001b[39;00m model_format \u001b[39mis\u001b[39;00m \u001b[39mnot\u001b[39;00m \u001b[39mNone\u001b[39;00m:\n\u001b[0;32m--> 200\u001b[0m     \u001b[39mself\u001b[39;49m\u001b[39m.\u001b[39;49mmodel_format \u001b[39m=\u001b[39m model_format\n",
      "File \u001b[0;32m~/.cache/pypoetry/virtualenvs/enceladus-KRa0cCkj-py3.8/lib/python3.8/site-packages/firebase_admin/ml.py:335\u001b[0m, in \u001b[0;36mModel.model_format\u001b[0;34m(self, model_format)\u001b[0m\n\u001b[1;32m    332\u001b[0m \u001b[39m@model_format\u001b[39m\u001b[39m.\u001b[39msetter\n\u001b[1;32m    333\u001b[0m \u001b[39mdef\u001b[39;00m \u001b[39mmodel_format\u001b[39m(\u001b[39mself\u001b[39m, model_format):\n\u001b[1;32m    334\u001b[0m     \u001b[39mif\u001b[39;00m model_format \u001b[39mis\u001b[39;00m \u001b[39mnot\u001b[39;00m \u001b[39mNone\u001b[39;00m:\n\u001b[0;32m--> 335\u001b[0m         _validate_model_format(model_format)\n\u001b[1;32m    336\u001b[0m     \u001b[39mself\u001b[39m\u001b[39m.\u001b[39m_model_format \u001b[39m=\u001b[39m model_format  \u001b[39m#Can be None\u001b[39;00m\n\u001b[1;32m    337\u001b[0m     \u001b[39mreturn\u001b[39;00m \u001b[39mself\u001b[39m\n",
      "File \u001b[0;32m~/.cache/pypoetry/virtualenvs/enceladus-KRa0cCkj-py3.8/lib/python3.8/site-packages/firebase_admin/ml.py:791\u001b[0m, in \u001b[0;36m_validate_model_format\u001b[0;34m(model_format)\u001b[0m\n\u001b[1;32m    789\u001b[0m \u001b[39mdef\u001b[39;00m \u001b[39m_validate_model_format\u001b[39m(model_format):\n\u001b[1;32m    790\u001b[0m     \u001b[39mif\u001b[39;00m \u001b[39mnot\u001b[39;00m \u001b[39misinstance\u001b[39m(model_format, ModelFormat):\n\u001b[0;32m--> 791\u001b[0m         \u001b[39mraise\u001b[39;00m \u001b[39mTypeError\u001b[39;00m(\u001b[39m'\u001b[39m\u001b[39mModel format must be a ModelFormat object.\u001b[39m\u001b[39m'\u001b[39m)\n\u001b[1;32m    792\u001b[0m     \u001b[39mreturn\u001b[39;00m model_format\n",
      "\u001b[0;31mTypeError\u001b[0m: Model format must be a ModelFormat object."
     ]
    }
   ],
   "source": [
    "import keras\n",
    "import firebase_admin\n",
    "from firebase_admin import ml\n",
    "from firebase_admin import credentials\n",
    "\n",
    "firebase_admin.initialize_app(\n",
    "  credentials.Certificate('/home/cam/Documents/heartfelt_firebase_dev/.env'),\n",
    "  options={\n",
    "      'storageBucket': 'heartfelt-0.appspot.com',\n",
    "  })\n",
    "\n",
    "# Load a Keras model, convert it to TensorFlow Lite, and upload it to Cloud Storage\n",
    "model = keras.models.load_model('/home/cam/Documents/Enceladus/notebooks/artifacts/model-vital-bee-206:v19')\n",
    "source = ml.TFLiteGCSModelSource.from_keras_model(model)\n",
    "\n",
    "model = ml.Model(\n",
    "    display_name=\"enceladus\",   # This is the name you use from your app to load the model.\n",
    "    tags=[\"v1\"],             # Optional tags for easier management.\n",
    "    model_format=source)\n",
    "\n",
    "# Add the model to your Firebase project and publish it\n",
    "new_model = ml.create_model(model)\n",
    "ml.publish_model(new_model.model_id)"
   ]
  },
  {
   "cell_type": "code",
   "execution_count": null,
   "metadata": {},
   "outputs": [],
   "source": [
    "from Enceladus.jobs import TestingPipeline\n",
    "\n",
    "TestingPipeline(\n",
    "    data_path='/home/cam/Documents/database_tools/data-2022-11-08/mimic3/',\n",
    "    scaler_path='/home/cam/Documents/database_tools/data-2022-11-08/mimic3/scalers_MinMax.pkl',\n",
    "    scaler_type='MinMax',\n",
    "    model_path='heartfelt/Enceladus/model-vital-bee-206:v19',\n",
    ").run()"
   ]
  },
  {
   "cell_type": "code",
   "execution_count": 2,
   "metadata": {},
   "outputs": [
    {
     "name": "stdout",
     "output_type": "stream",
     "text": [
      "Loading data...\n",
      "Reading test split.\n",
      "test\n"
     ]
    },
    {
     "name": "stderr",
     "output_type": "stream",
     "text": [
      "1193it [00:00, 6813.76it/s]\n"
     ]
    },
    {
     "data": {
      "text/html": [
       "wandb version 0.13.6 is available!  To upgrade, please run:\n",
       " $ pip install wandb --upgrade"
      ],
      "text/plain": [
       "<IPython.core.display.HTML object>"
      ]
     },
     "metadata": {},
     "output_type": "display_data"
    },
    {
     "data": {
      "text/html": [
       "Tracking run with wandb version 0.13.4"
      ],
      "text/plain": [
       "<IPython.core.display.HTML object>"
      ]
     },
     "metadata": {},
     "output_type": "display_data"
    },
    {
     "data": {
      "text/html": [
       "Run data is saved locally in <code>/home/cam/Documents/Enceladus/notebooks/wandb/run-20221213_020023-1qwmrgsa</code>"
      ],
      "text/plain": [
       "<IPython.core.display.HTML object>"
      ]
     },
     "metadata": {},
     "output_type": "display_data"
    },
    {
     "data": {
      "text/html": [
       "Syncing run <strong><a href=\"https://wandb.ai/heartfelt/Enceladus-notebooks/runs/1qwmrgsa\" target=\"_blank\">scarlet-serenity-29</a></strong> to <a href=\"https://wandb.ai/heartfelt/Enceladus-notebooks\" target=\"_blank\">Weights & Biases</a> (<a href=\"https://wandb.me/run\" target=\"_blank\">docs</a>)<br/>"
      ],
      "text/plain": [
       "<IPython.core.display.HTML object>"
      ]
     },
     "metadata": {},
     "output_type": "display_data"
    },
    {
     "name": "stderr",
     "output_type": "stream",
     "text": [
      "\u001b[34m\u001b[1mwandb\u001b[0m: Downloading large artifact model-vital-bee-206:v19, 58.89MB. 4 files... \n",
      "\u001b[34m\u001b[1mwandb\u001b[0m:   4 of 4 files downloaded.  \n",
      "Done. 0:0:0.0\n"
     ]
    },
    {
     "data": {
      "text/html": [
       "Waiting for W&B process to finish... <strong style=\"color:green\">(success).</strong>"
      ],
      "text/plain": [
       "<IPython.core.display.HTML object>"
      ]
     },
     "metadata": {},
     "output_type": "display_data"
    },
    {
     "data": {
      "application/vnd.jupyter.widget-view+json": {
       "model_id": "57d326cee9b043ffba5e731cbb95f0a9",
       "version_major": 2,
       "version_minor": 0
      },
      "text/plain": [
       "VBox(children=(Label(value='0.001 MB of 0.001 MB uploaded (0.000 MB deduped)\\r'), FloatProgress(value=1.0, max…"
      ]
     },
     "metadata": {},
     "output_type": "display_data"
    },
    {
     "data": {
      "text/html": [
       "Synced <strong style=\"color:#cdcd00\">scarlet-serenity-29</strong>: <a href=\"https://wandb.ai/heartfelt/Enceladus-notebooks/runs/1qwmrgsa\" target=\"_blank\">https://wandb.ai/heartfelt/Enceladus-notebooks/runs/1qwmrgsa</a><br/>Synced 5 W&B file(s), 0 media file(s), 0 artifact file(s) and 0 other file(s)"
      ],
      "text/plain": [
       "<IPython.core.display.HTML object>"
      ]
     },
     "metadata": {},
     "output_type": "display_data"
    },
    {
     "data": {
      "text/html": [
       "Find logs at: <code>./wandb/run-20221213_020023-1qwmrgsa/logs</code>"
      ],
      "text/plain": [
       "<IPython.core.display.HTML object>"
      ]
     },
     "metadata": {},
     "output_type": "display_data"
    },
    {
     "name": "stdout",
     "output_type": "stream",
     "text": [
      "Generating predictions...\n",
      "38/38 [==============================] - 1s 7ms/step\n",
      "Rescaling data...\n",
      "Calculating error...\n"
     ]
    },
    {
     "name": "stderr",
     "output_type": "stream",
     "text": [
      "100%|██████████| 1193/1193 [00:00<00:00, 2879.67it/s]\n",
      "100%|██████████| 1193/1193 [00:00<00:00, 2968.05it/s]"
     ]
    },
    {
     "name": "stdout",
     "output_type": "stream",
     "text": [
      "Systolic BP\n",
      "37.7% < 15mmHg\n",
      "23.3% < 10mmHg\n",
      "12.5% < 5mmHg\n",
      "\n",
      "Diastolic BP\n",
      "67.5% < 15mmHg\n",
      "49.0% < 10mmHg\n",
      "28.2% < 5mmHg\n",
      "\n"
     ]
    },
    {
     "name": "stderr",
     "output_type": "stream",
     "text": [
      "\n"
     ]
    }
   ],
   "source": [
    "from Enceladus.jobs import TestingPipeline\n",
    "\n",
    "TestingPipeline(\n",
    "    data_path='/home/cam/Documents/database_tools/vitaldb/',\n",
    "    scaler_path='/home/cam/Documents/database_tools/vitaldb/scalers_1670914756482882232.pkl',\n",
    "    scaler_type='MinMax',\n",
    "    model_path='heartfelt/Enceladus/model-vital-bee-206:v19',\n",
    ").run()"
   ]
  },
  {
   "cell_type": "code",
   "execution_count": null,
   "metadata": {},
   "outputs": [],
   "source": [
    "import numpy as np\n",
    "import pandas as pd\n",
    "import pickle as pkl\n",
    "\n",
    "with open('model-vital-bee-206:v19_error.pkl', 'rb') as f:\n",
    "    data = pkl.load(f)\n",
    "\n",
    "np.mean(data['sbp_abs_err'])"
   ]
  },
  {
   "cell_type": "code",
   "execution_count": null,
   "metadata": {},
   "outputs": [],
   "source": [
    "import plotly.graph_objects as go\n",
    "\n",
    "pd.options.plotting.backend = 'plotly'\n",
    "\n",
    "fig = go.Figure()\n",
    "fig.add_trace(go.Histogram(x=data['sbp_err'], name='SBP Error'))\n",
    "fig.add_trace(go.Histogram(x=data['dbp_err'], name='DBP Error'))\n",
    "\n",
    "fig.update_layout(\n",
    "        barmode='overlay',\n",
    "        title={\n",
    "            'text': 'Model Prediction Error Histogram',\n",
    "            'font': {'size': 20},\n",
    "        },\n",
    "        xaxis={'title': 'Error (mmHg)', 'titlefont':{'size': 15}},\n",
    "        yaxis={'title': 'Number of Samples', 'titlefont':{'size': 15}},\n",
    "        font={\n",
    "            'family': 'Courier New, monospace',\n",
    "            'color' : '#FFFFFF',\n",
    "            'size'  : 12,\n",
    "        },\n",
    "        template='plotly_dark',\n",
    "        width=800,\n",
    ")\n",
    "fig\n",
    "fig.update_traces(opacity=0.75)\n",
    "\n",
    "fig"
   ]
  },
  {
   "cell_type": "code",
   "execution_count": null,
   "metadata": {},
   "outputs": [],
   "source": [
    "np.mean(data['dbp_abs_err'])"
   ]
  },
  {
   "cell_type": "code",
   "execution_count": 3,
   "metadata": {},
   "outputs": [],
   "source": [
    "import numpy as np\n",
    "import pandas as pd\n",
    "import pickle as pkl\n",
    "from plotly.subplots import make_subplots\n",
    "\n",
    "with open('model-vital-bee-206:v19_predictions.pkl', 'rb') as f:\n",
    "    data = pkl.load(f)\n",
    "    \n",
    "ppg, vpg, apg, abp, pred = data.values()"
   ]
  },
  {
   "cell_type": "code",
   "execution_count": 34,
   "metadata": {},
   "outputs": [],
   "source": [
    "i = 18"
   ]
  },
  {
   "cell_type": "code",
   "execution_count": 35,
   "metadata": {},
   "outputs": [
    {
     "data": {
      "application/vnd.plotly.v1+json": {
       "config": {
        "plotlyServerURL": "https://plot.ly"
       },
       "data": [
        {
         "name": "PPG",
         "type": "scatter",
         "xaxis": "x",
         "y": [
          -7.709540367126465,
          -7.982104301452637,
          -8.199589729309082,
          -8.364466667175293,
          -8.486468315124512,
          -8.57829475402832,
          -8.644843101501465,
          -8.701510429382324,
          -8.763253211975098,
          -8.839999198913574,
          -8.940023422241211,
          -9.073302268981934,
          -9.246866226196289,
          -9.453914642333984,
          -9.692479133605957,
          -9.948982238769531,
          -10.20327091217041,
          -10.434226036071777,
          -10.60506820678711,
          -10.685113906860352,
          -10.630260467529297,
          -10.413239479064941,
          -9.985742568969727,
          -9.321666717529297,
          -8.399188995361328,
          -7.199480056762695,
          -5.730404853820801,
          -3.991250991821289,
          -2.019145965576172,
          0.15312767028808594,
          2.466144561767578,
          4.862781524658203,
          7.272144317626953,
          9.613906860351562,
          11.823755264282227,
          13.822874069213867,
          15.55335807800293,
          16.966665267944336,
          18.02919578552246,
          18.719446182250977,
          19.0383243560791,
          19.003446578979492,
          18.648374557495117,
          18.013891220092773,
          17.165266036987305,
          16.15091896057129,
          15.042718887329102,
          13.900178909301758,
          12.778081893920898,
          11.715456008911133,
          10.752592086791992,
          9.904266357421875,
          9.181224822998047,
          8.56905746459961,
          8.061805725097656,
          7.623891830444336,
          7.22944450378418,
          6.8446502685546875,
          6.437440872192383,
          5.9805145263671875,
          5.454462051391602,
          4.8445587158203125,
          4.145593643188477,
          3.3732986450195312,
          2.5338878631591797,
          1.6520309448242188,
          0.7568092346191406,
          -0.119537353515625,
          -0.94964599609375,
          -1.7048568725585938,
          -2.357576370239258,
          -2.8923110961914062,
          -3.3029918670654297,
          -3.578165054321289,
          -3.730743408203125,
          -3.771984100341797,
          -3.721956253051758,
          -3.6014060974121094,
          -3.438913345336914,
          -3.263965606689453,
          -3.100370407104492,
          -2.967824935913086,
          -2.896465301513672,
          -2.8910465240478516,
          -2.966096878051758,
          -3.1239795684814453,
          -3.366527557373047,
          -3.684995651245117,
          -4.070512771606445,
          -4.50927734375,
          -4.990154266357422,
          -5.490732192993164,
          -5.99882698059082,
          -6.498333930969238,
          -6.969700813293457,
          -7.411693572998047,
          -7.800384521484375,
          -8.13412094116211,
          -8.413969039916992,
          -8.624371528625488,
          -8.7787504196167,
          -8.873133659362793,
          -8.917649269104004,
          -8.92613410949707,
          -8.899479866027832,
          -8.865762710571289,
          -8.828238487243652,
          -8.805641174316406,
          -8.809371948242188,
          -8.848326683044434,
          -8.927309036254883,
          -9.045700073242188,
          -9.196441650390625,
          -9.36542797088623,
          -9.531408309936523,
          -9.666519165039062,
          -9.737597465515137,
          -9.70845890045166,
          -9.536772727966309,
          -9.186628341674805,
          -8.62132740020752,
          -7.812196731567383,
          -6.742833137512207,
          -5.395977020263672,
          -3.7863006591796875,
          -1.9257831573486328,
          0.14371871948242188,
          2.3834896087646484,
          4.730558395385742,
          7.117490768432617,
          9.470331192016602,
          11.719316482543945,
          13.788881301879883,
          15.61772346496582,
          17.15311622619629,
          18.355745315551758,
          19.19598960876465,
          19.675874710083008,
          19.79923439025879,
          19.5971736907959,
          19.103601455688477,
          18.371320724487305,
          17.4567813873291,
          16.421728134155273,
          15.317373275756836,
          14.205801010131836,
          13.119298934936523,
          12.104406356811523,
          11.173952102661133,
          10.343477249145508,
          9.604530334472656,
          8.952934265136719,
          8.36001968383789,
          7.806707382202148,
          7.267242431640625,
          6.707492828369141,
          6.112312316894531,
          5.462579727172852,
          4.754302978515625,
          3.977201461791992,
          3.1499786376953125,
          2.2842559814453125,
          1.3984603881835938,
          0.52490234375,
          -0.31250953674316406,
          -1.0853824615478516,
          -1.7695198059082031,
          -2.3411788940429688,
          -2.795255661010742,
          -3.115804672241211,
          -3.3122615814208984,
          -3.3868942260742188,
          -3.3663158416748047,
          -3.257680892944336,
          -3.097929000854492,
          -2.9047927856445312,
          -2.712404251098633,
          -2.537506103515625,
          -2.4090442657470703,
          -2.3412227630615234,
          -2.342000961303711,
          -2.4277000427246094,
          -2.593538284301758,
          -2.8336715698242188,
          -3.152629852294922,
          -3.5258941650390625,
          -3.952028274536133,
          -4.4118499755859375,
          -4.8967742919921875,
          -5.388149261474609,
          -5.878512382507324,
          -6.357076644897461,
          -6.809684753417969,
          -7.239960670471191,
          -7.62761116027832,
          -7.9792890548706055,
          -8.287586212158203,
          -8.547017097473145,
          -8.763875961303711,
          -8.930874824523926,
          -9.058809280395508,
          -9.145393371582031,
          -9.200960159301758,
          -9.232017517089844,
          -9.252286911010742,
          -9.266029357910156,
          -9.293442726135254,
          -9.339385032653809,
          -9.412221908569336,
          -9.528263092041016,
          -9.674308776855469,
          -9.856210708618164,
          -10.062029838562012,
          -10.267739295959473,
          -10.451505661010742,
          -10.57959270477295,
          -10.614208221435547,
          -10.51608943939209,
          -10.242165565490723,
          -9.752850532531738,
          -9.020978927612305,
          -8.01497745513916,
          -6.7277069091796875,
          -5.152313232421875,
          -3.3103599548339844,
          -1.2270660400390625,
          1.04736328125,
          3.4610462188720703,
          5.937910079956055,
          8.408824920654297,
          10.791864395141602,
          13.008180618286133,
          14.992063522338867,
          16.68145179748535,
          18.03349494934082,
          19.01744270324707,
          19.620779037475586,
          19.853906631469727,
          19.745332717895508,
          19.329057693481445,
          18.659582138061523,
          17.795862197875977,
          16.80198097229004,
          15.743066787719727,
          14.669820785522461,
          13.639749526977539,
          12.682519912719727,
          11.828718185424805,
          11.088418960571289,
          10.45716667175293,
          9.921697616577148,
          9.463838577270508,
          9.042970657348633,
          8.641422271728516,
          8.210975646972656,
          7.73921012878418
         ],
         "yaxis": "y"
        },
        {
         "name": "VPG",
         "type": "scatter",
         "xaxis": "x",
         "y": [
          -2.7256393432617188,
          -2.450258731842041,
          -1.9118189811706543,
          -1.4343905448913574,
          -1.0691452026367188,
          -0.7918739318847656,
          -0.6160759925842285,
          -0.5920529365539551,
          -0.692446231842041,
          -0.8838534355163574,
          -1.166517734527588,
          -1.5342140197753906,
          -1.903061866760254,
          -2.228066921234131,
          -2.4753427505493164,
          -2.5539588928222656,
          -2.4262166023254395,
          -2.008991241455078,
          -1.2544441223144531,
          -0.12595891952514648,
          1.3593721389770508,
          3.2225871086120605,
          5.457861423492432,
          7.93276309967041,
          10.610940933227539,
          13.343923568725586,
          16.041135787963867,
          18.55630111694336,
          20.721891403198242,
          22.426441192626953,
          23.548267364501953,
          24.030006408691406,
          23.755634307861328,
          22.758037567138672,
          21.044837951660156,
          18.64801597595215,
          15.718955993652344,
          12.379205703735352,
          8.763895034790039,
          5.045640468597412,
          1.419985294342041,
          -1.949765682220459,
          -4.947751998901367,
          -7.415536880493164,
          -9.314872741699219,
          -10.612741470336914,
          -11.253704071044922,
          -11.323189735412598,
          -10.923622131347656,
          -10.127449035644531,
          -9.055933952331543,
          -7.856832504272461,
          -6.676054000854492,
          -5.5970964431762695,
          -4.725836753845215,
          -4.161805152893066,
          -3.8961899280548096,
          -3.960007429122925,
          -4.320696830749512,
          -4.914906024932861,
          -5.679774284362793,
          -6.544349193572998,
          -7.356297969818115,
          -8.058523178100586,
          -8.606343269348145,
          -8.885400772094727,
          -8.857847213745117,
          -8.53227710723877,
          -7.926601409912109,
          -7.0396528244018555,
          -5.937272071838379,
          -4.727078437805176,
          -3.429262638092041,
          -2.1387529373168945,
          -0.9690952301025391,
          0.043931007385253906,
          0.8528852462768555,
          1.4152145385742188,
          1.6872024536132812,
          1.6927123069763184,
          1.480696201324463,
          1.0195255279541016,
          0.3838920593261719,
          -0.3481578826904297,
          -1.1646604537963867,
          -2.0021533966064453,
          -2.8050827980041504,
          -3.519930839538574,
          -4.1214141845703125,
          -4.598203659057617,
          -4.907267093658447,
          -5.043367385864258,
          -5.038017272949219,
          -4.8543701171875,
          -4.566789627075195,
          -4.153423309326172,
          -3.6121439933776855,
          -3.067922592163086,
          -2.4512553215026855,
          -1.8239092826843262,
          -1.2438154220581055,
          -0.6944942474365234,
          -0.2649998664855957,
          0.09084939956665039,
          0.30185699462890625,
          0.3562045097351074,
          0.30060291290283203,
          0.09433269500732422,
          -0.21342754364013672,
          -0.5896878242492676,
          -0.9868693351745605,
          -1.34566068649292,
          -1.5986394882202148,
          -1.6748380661010742,
          -1.5054607391357422,
          -1.0309481620788574,
          -0.20969867706298828,
          1.0041236877441406,
          2.6091527938842773,
          4.577224254608154,
          6.872153282165527,
          9.392471313476562,
          12.081103324890137,
          14.78266716003418,
          17.350971221923828,
          19.65009880065918,
          21.546356201171875,
          22.93419075012207,
          23.67001724243164,
          23.698862075805664,
          23.009126663208008,
          21.592748641967773,
          19.492023468017578,
          16.821163177490234,
          13.690118789672852,
          10.214376449584961,
          6.600630283355713,
          3.016228675842285,
          -0.3934907913208008,
          -3.4781718254089355,
          -6.12926721572876,
          -8.234111785888672,
          -9.747971534729004,
          -10.697036743164062,
          -11.079633712768555,
          -10.990362167358398,
          -10.506972312927246,
          -9.7267484664917,
          -8.804655075073242,
          -7.847099304199219,
          -6.952717304229736,
          -6.222550868988037,
          -5.731123924255371,
          -5.463901519775391,
          -5.496082305908203,
          -5.774638652801514,
          -6.22456169128418,
          -6.790055274963379,
          -7.426892280578613,
          -8.021627426147461,
          -8.464729309082031,
          -8.757591247558594,
          -8.796772956848145,
          -8.554844856262207,
          -8.051420211791992,
          -7.285053730010986,
          -6.278982162475586,
          -5.128683090209961,
          -3.8731324672698975,
          -2.5850319862365723,
          -1.355447769165039,
          -0.27027368545532227,
          0.646064281463623,
          1.3419365882873535,
          1.7644453048706055,
          1.9276165962219238,
          1.8364286422729492,
          1.5168070793151855,
          0.9814095497131348,
          0.3352189064025879,
          -0.4323863983154297,
          -1.2576961517333984,
          -2.029867172241211,
          -2.7954554557800293,
          -3.4611058235168457,
          -3.996988534927368,
          -4.429775238037109,
          -4.7237348556518555,
          -4.881505966186523,
          -4.908696174621582,
          -4.844639301300049,
          -4.655859470367432,
          -4.414422512054443,
          -4.089632987976074,
          -3.6966359615325928,
          -3.299875259399414,
          -2.8386449813842773,
          -2.381458282470703,
          -1.9192886352539062,
          -1.4746665954589844,
          -1.0725927352905273,
          -0.71075439453125,
          -0.4331231117248535,
          -0.2566337585449219,
          -0.17006158828735352,
          -0.20578384399414062,
          -0.3667759895324707,
          -0.5938911437988281,
          -0.9443926811218262,
          -1.310434341430664,
          -1.6397404670715332,
          -1.9386053085327148,
          -2.057645320892334,
          -1.9473791122436523,
          -1.5592718124389648,
          -0.8135175704956055,
          0.3175187110900879,
          1.86021089553833,
          3.816192150115967,
          6.105937957763672,
          8.68936538696289,
          11.466355323791504,
          14.313321113586426,
          17.08673667907715,
          19.62623405456543,
          21.788618087768555,
          23.440553665161133,
          24.45273208618164,
          24.738901138305664,
          24.269773483276367,
          22.996767044067383,
          21.00099754333496,
          18.366357803344727,
          15.207147598266602,
          11.67994499206543,
          7.936429977416992,
          4.182322025299072,
          0.6227684020996094,
          -2.6242566108703613,
          -5.428764820098877,
          -7.66595458984375,
          -9.288013458251953,
          -10.263982772827148,
          -10.66079044342041,
          -10.516610145568848,
          -9.936517715454102,
          -9.055130004882812,
          -7.970484733581543,
          -6.857770919799805,
          -5.83362340927124,
          -4.966645240783691,
          -4.39363956451416,
          -4.112071990966797,
          -4.159965515136719,
          -4.511075973510742,
          -4.717674255371094
         ],
         "yaxis": "y"
        },
        {
         "name": "APG",
         "type": "scatter",
         "xaxis": "x",
         "y": [
          1.3769030570983887,
          2.034550905227661,
          2.539673328399658,
          2.1066904067993164,
          1.6062945127487183,
          1.1326730251312256,
          0.49955248832702637,
          -0.19092559814453125,
          -0.7294952869415283,
          -1.1851727962493896,
          -1.625901460647583,
          -1.8413633108139038,
          -1.7346292734146118,
          -1.4306992292404175,
          -0.8147269487380981,
          0.12281835079193115,
          1.3624221086502075,
          2.9294371604919434,
          4.70758056640625,
          6.53454065322876,
          8.371371269226074,
          10.24622917175293,
          11.775440216064453,
          12.882694244384766,
          13.527909278869629,
          13.575494766235352,
          13.030937194824219,
          11.70189380645752,
          9.675362586975098,
          7.065945625305176,
          4.008915901184082,
          0.5184084177017212,
          -3.1799256801605225,
          -6.776987075805664,
          -10.275049209594727,
          -13.31470012664795,
          -15.67202377319336,
          -17.387649536132812,
          -18.333911895751953,
          -18.359773635864258,
          -17.488515853881836,
          -15.91934585571289,
          -13.664424896240234,
          -10.917800903320312,
          -7.993010997772217,
          -4.847073554992676,
          -1.7761170864105225,
          0.8252114057540894,
          2.989351749420166,
          4.669222354888916,
          5.676543712615967,
          5.949702739715576,
          5.649343013763428,
          4.875546455383301,
          3.5882325172424316,
          2.0741164684295654,
          0.504496693611145,
          -1.0612636804580688,
          -2.3872435092926025,
          -3.397691249847412,
          -4.073601722717285,
          -4.191304683685303,
          -3.7854342460632324,
          -3.125110149383545,
          -2.067190408706665,
          -0.6287574768066406,
          0.8828073740005493,
          2.328115701675415,
          3.731560707092285,
          4.973328113555908,
          5.781445026397705,
          6.270024299621582,
          6.470820426940918,
          6.150418281555176,
          5.456707000732422,
          4.5549540519714355,
          3.428205966949463,
          2.0857958793640137,
          0.6937503814697266,
          -0.5162596702575684,
          -1.6829639673233032,
          -2.7420103549957275,
          -3.419205665588379,
          -3.8713812828063965,
          -4.134988784790039,
          -4.101056098937988,
          -3.7944376468658447,
          -3.2908260822296143,
          -2.6956825256347656,
          -1.9646257162094116,
          -1.1129021644592285,
          -0.32687485218048096,
          0.472491979598999,
          1.1780709028244019,
          1.7523705959320068,
          2.386617660522461,
          2.7137577533721924,
          2.902224540710449,
          3.110030174255371,
          3.0186028480529785,
          2.823540687561035,
          2.4470388889312744,
          1.9633620977401733,
          1.4171481132507324,
          0.6633877754211426,
          -0.0031322240829467773,
          -0.6546765565872192,
          -1.285073161125183,
          -1.7100483179092407,
          -1.9336044788360596,
          -1.8899321556091309,
          -1.529422402381897,
          -0.8229374885559082,
          0.23294687271118164,
          1.6097277402877808,
          3.239408016204834,
          5.087676525115967,
          7.047131538391113,
          8.932757377624512,
          10.657509803771973,
          12.038114547729492,
          13.022375106811523,
          13.475486755371094,
          13.174671173095703,
          12.168577194213867,
          10.488465309143066,
          8.210241317749023,
          5.309152603149414,
          1.911681890487671,
          -1.6522258520126343,
          -5.265289306640625,
          -8.792756080627441,
          -11.928961753845215,
          -14.5047607421875,
          -16.5169620513916,
          -17.72372055053711,
          -17.995365142822266,
          -17.485294342041016,
          -16.23600196838379,
          -14.339439392089844,
          -11.889849662780762,
          -9.046760559082031,
          -6.157310485839844,
          -3.3291549682617188,
          -0.7333099842071533,
          1.4316558837890625,
          3.1590402126312256,
          4.255792617797852,
          4.69912576675415,
          4.629847526550293,
          4.061377048492432,
          3.0539841651916504,
          1.8966227769851685,
          0.5876034498214722,
          -0.7768422365188599,
          -1.8211960792541504,
          -2.5385379791259766,
          -3.0058205127716064,
          -3.078925609588623,
          -2.594593048095703,
          -1.8399059772491455,
          -0.8301079273223877,
          0.5068659782409668,
          1.8633842468261719,
          3.17448091506958,
          4.431095600128174,
          5.390933036804199,
          6.014624118804932,
          6.359127044677734,
          6.294217586517334,
          5.786901473999023,
          5.003780364990234,
          4.030519485473633,
          2.795961380004883,
          1.4642030000686646,
          0.17995834350585938,
          -1.0270178318023682,
          -2.1375417709350586,
          -2.953967571258545,
          -3.5344929695129395,
          -3.982287645339966,
          -3.9936959743499756,
          -3.844395160675049,
          -3.578096628189087,
          -3.0038297176361084,
          -2.4216742515563965,
          -1.8168658018112183,
          -1.1293232440948486,
          -0.4624009132385254,
          0.09216964244842529,
          0.6320953369140625,
          1.0755449533462524,
          1.4155656099319458,
          1.7944693565368652,
          1.9744008779525757,
          2.144977569580078,
          2.2960453033447266,
          2.298393726348877,
          2.266979217529297,
          2.1167426109313965,
          1.9097864627838135,
          1.5986770391464233,
          1.1353015899658203,
          0.6576567888259888,
          0.1271277666091919,
          -0.49178898334503174,
          -0.9702712297439575,
          -1.4440357685089111,
          -1.791355013847351,
          -1.7383664846420288,
          -1.570427417755127,
          -1.044762134552002,
          -0.02193152904510498,
          1.2459337711334229,
          2.8346598148345947,
          4.69197940826416,
          6.684324264526367,
          8.746686935424805,
          10.614317893981934,
          12.18293285369873,
          13.401052474975586,
          14.05988597869873,
          14.050951957702637,
          13.282293319702148,
          11.754706382751465,
          9.535810470581055,
          6.66029167175293,
          3.245863437652588,
          -0.45739710330963135,
          -4.3553338050842285,
          -8.171944618225098,
          -11.576017379760742,
          -14.484618186950684,
          -16.716033935546875,
          -18.176790237426758,
          -18.744056701660156,
          -18.284147262573242,
          -17.016443252563477,
          -15.128835678100586,
          -12.604249954223633,
          -9.64812183380127,
          -6.495066165924072,
          -3.4319372177124023,
          -0.6315678358078003,
          1.810687780380249,
          3.6537022590637207,
          4.915085315704346,
          5.493399620056152,
          5.342158794403076,
          4.727819442749023,
          3.599956512451172,
          2.1364359855651855,
          0.584191083908081,
          -0.9975075721740723,
          -1.3942688703536987,
          -1.0329872369766235
         ],
         "yaxis": "y"
        },
        {
         "name": "ABP (Ground Truth)",
         "type": "scatter",
         "xaxis": "x2",
         "y": [
          73.14920043945312,
          73.14920043945312,
          72.16179656982422,
          71.17430114746094,
          71.17430114746094,
          70.18689727783203,
          69.19940185546875,
          70.18689727783203,
          69.19940185546875,
          68.21199798583984,
          69.19940185546875,
          69.19940185546875,
          68.21199798583984,
          68.21199798583984,
          68.21199798583984,
          67.22450256347656,
          67.22450256347656,
          66.23709869384766,
          66.23709869384766,
          65.24960327148438,
          66.23709869384766,
          65.24960327148438,
          64.26210021972656,
          65.24960327148438,
          63.27470016479492,
          63.27470016479492,
          63.27470016479492,
          63.27470016479492,
          64.26210021972656,
          66.23709869384766,
          70.18689727783203,
          76.11160278320312,
          84.99870300292969,
          94.87330627441406,
          103.75999450683594,
          111.66000366210938,
          116.59700012207031,
          119.55999755859375,
          121.53500366210938,
          120.5469970703125,
          120.5469970703125,
          119.55999755859375,
          118.57200622558594,
          117.58500671386719,
          117.58500671386719,
          116.59700012207031,
          115.61000061035156,
          115.61000061035156,
          114.62200927734375,
          114.62200927734375,
          112.64801025390625,
          111.66000366210938,
          111.66000366210938,
          110.67300415039062,
          109.68499755859375,
          108.697998046875,
          108.697998046875,
          107.71000671386719,
          106.72299194335938,
          105.73500061035156,
          104.74800109863281,
          102.77301025390625,
          101.7860107421875,
          99.81060791015625,
          97.83570098876953,
          94.87330627441406,
          90.92350006103516,
          87.96109771728516,
          84.99870300292969,
          83.0238037109375,
          81.04889678955078,
          82.03640747070312,
          82.03640747070312,
          82.03640747070312,
          83.0238037109375,
          83.0238037109375,
          83.0238037109375,
          83.0238037109375,
          84.01130676269531,
          83.0238037109375,
          83.0238037109375,
          83.0238037109375,
          83.0238037109375,
          82.03640747070312,
          81.04889678955078,
          82.03640747070312,
          80.0614013671875,
          80.0614013671875,
          80.0614013671875,
          79.07400512695312,
          78.08650207519531,
          77.09910583496094,
          76.11160278320312,
          76.11160278320312,
          75.12419891357422,
          75.12419891357422,
          74.13670349121094,
          73.14920043945312,
          72.16179656982422,
          71.17430114746094,
          71.17430114746094,
          70.18689727783203,
          70.18689727783203,
          70.18689727783203,
          69.19940185546875,
          69.19940185546875,
          68.21199798583984,
          68.21199798583984,
          67.22450256347656,
          68.21199798583984,
          68.21199798583984,
          67.22450256347656,
          67.22450256347656,
          67.22450256347656,
          67.22450256347656,
          66.23709869384766,
          66.23709869384766,
          65.24960327148438,
          65.24960327148438,
          64.26210021972656,
          64.26210021972656,
          64.26210021972656,
          63.27470016479492,
          62.287200927734375,
          63.27470016479492,
          63.27470016479492,
          64.26210021972656,
          67.22450256347656,
          73.14920043945312,
          81.04889678955078,
          89.93600463867188,
          99.81060791015625,
          108.697998046875,
          114.62200927734375,
          118.57200622558594,
          120.5469970703125,
          121.53500366210938,
          119.55999755859375,
          119.55999755859375,
          118.57200622558594,
          118.57200622558594,
          117.58500671386719,
          116.59700012207031,
          116.59700012207031,
          116.59700012207031,
          115.61000061035156,
          114.62200927734375,
          114.62200927734375,
          113.635009765625,
          111.66000366210938,
          111.66000366210938,
          110.67300415039062,
          108.697998046875,
          108.697998046875,
          108.697998046875,
          107.71000671386719,
          106.72299194335938,
          104.74800109863281,
          103.75999450683594,
          102.77301025390625,
          100.79800415039062,
          97.83570098876953,
          95.86080169677734,
          92.89839935302734,
          88.9486083984375,
          85.98619842529297,
          84.01130676269531,
          82.03640747070312,
          82.03640747070312,
          82.03640747070312,
          82.03640747070312,
          82.03640747070312,
          83.0238037109375,
          83.0238037109375,
          83.0238037109375,
          84.01130676269531,
          83.0238037109375,
          83.0238037109375,
          83.0238037109375,
          82.03640747070312,
          83.0238037109375,
          82.03640747070312,
          81.04889678955078,
          81.04889678955078,
          80.0614013671875,
          80.0614013671875,
          80.0614013671875,
          79.07400512695312,
          78.08650207519531,
          77.09910583496094,
          77.09910583496094,
          76.11160278320312,
          75.12419891357422,
          74.13670349121094,
          73.14920043945312,
          73.14920043945312,
          72.16179656982422,
          71.17430114746094,
          71.17430114746094,
          70.18689727783203,
          70.18689727783203,
          69.19940185546875,
          69.19940185546875,
          69.19940185546875,
          69.19940185546875,
          69.19940185546875,
          68.21199798583984,
          67.22450256347656,
          68.21199798583984,
          67.22450256347656,
          67.22450256347656,
          66.23709869384766,
          67.22450256347656,
          66.23709869384766,
          66.23709869384766,
          66.23709869384766,
          65.24960327148438,
          65.24960327148438,
          64.26210021972656,
          64.26210021972656,
          63.27470016479492,
          62.287200927734375,
          62.287200927734375,
          62.287200927734375,
          63.27470016479492,
          63.27470016479492,
          66.23709869384766,
          71.17430114746094,
          76.11160278320312,
          83.0238037109375,
          93.88580322265625,
          104.74800109863281,
          112.64801025390625,
          117.58500671386719,
          121.53500366210938,
          121.53500366210938,
          121.53500366210938,
          120.5469970703125,
          119.55999755859375,
          118.57200622558594,
          118.57200622558594,
          117.58500671386719,
          117.58500671386719,
          116.59700012207031,
          115.61000061035156,
          115.61000061035156,
          114.62200927734375,
          114.62200927734375,
          113.635009765625,
          112.64801025390625,
          112.64801025390625,
          111.66000366210938,
          110.67300415039062,
          110.67300415039062,
          108.697998046875,
          108.697998046875
         ],
         "yaxis": "y2"
        },
        {
         "name": "Prediction",
         "type": "scatter",
         "xaxis": "x2",
         "y": [
          66.74919128417969,
          67.22736358642578,
          67.27813720703125,
          69.96136474609375,
          70.25701904296875,
          70.03997039794922,
          69.38426208496094,
          68.47274780273438,
          67.69841003417969,
          66.84101867675781,
          66.127685546875,
          65.47296905517578,
          64.73764038085938,
          63.42694854736328,
          62.18087387084961,
          60.9251708984375,
          59.409034729003906,
          58.10194778442383,
          57.67287063598633,
          57.299964904785156,
          57.70806121826172,
          57.94506072998047,
          58.5230598449707,
          58.46832275390625,
          57.92466735839844,
          57.44752502441406,
          56.878273010253906,
          58.356407165527344,
          60.99738311767578,
          64.75631713867188,
          69.86293029785156,
          77.45440673828125,
          87.21125030517578,
          93.11402893066406,
          99.97622680664062,
          104.46295166015625,
          107.5499267578125,
          109.517578125,
          112.65463256835938,
          113.98225402832031,
          114.2982177734375,
          112.50526428222656,
          111.65794372558594,
          109.71632385253906,
          108.06965637207031,
          107.4388427734375,
          105.17678833007812,
          101.06678771972656,
          98.66893005371094,
          96.85526275634766,
          94.76720428466797,
          93.61021423339844,
          93.62442016601562,
          94.3255615234375,
          94.1802978515625,
          95.1671371459961,
          93.2837905883789,
          90.95051574707031,
          90.32502746582031,
          88.9876708984375,
          90.12451171875,
          90.44349670410156,
          86.02105712890625,
          86.61539459228516,
          85.63573455810547,
          82.90601348876953,
          82.76951599121094,
          84.40010070800781,
          83.98970031738281,
          81.24951171875,
          78.66532897949219,
          76.50531005859375,
          74.1817626953125,
          73.05000305175781,
          71.49810791015625,
          70.84297180175781,
          70.08473205566406,
          69.90469360351562,
          69.53641510009766,
          69.93727111816406,
          68.43645477294922,
          68.53578186035156,
          68.1214599609375,
          67.69593048095703,
          66.24210357666016,
          64.15840148925781,
          64.0327377319336,
          64.90819549560547,
          64.42054748535156,
          63.721954345703125,
          62.993377685546875,
          62.05441665649414,
          60.46868133544922,
          59.258697509765625,
          57.59034729003906,
          56.5544319152832,
          54.96215057373047,
          54.80827331542969,
          54.72051239013672,
          54.475921630859375,
          54.465293884277344,
          54.348114013671875,
          54.33531951904297,
          54.09865951538086,
          53.636817932128906,
          53.20894241333008,
          53.16091537475586,
          52.962074279785156,
          52.60511016845703,
          51.75012969970703,
          50.42690658569336,
          51.753665924072266,
          52.33452606201172,
          51.809043884277344,
          50.94752502441406,
          50.48983383178711,
          50.014434814453125,
          49.84389877319336,
          50.03113555908203,
          50.03885269165039,
          50.518836975097656,
          50.85033416748047,
          50.43046569824219,
          50.24080276489258,
          49.90833282470703,
          49.83258819580078,
          50.623069763183594,
          54.25670623779297,
          60.30442810058594,
          69.14131927490234,
          78.2277603149414,
          84.98755645751953,
          90.44718170166016,
          96.59185791015625,
          101.06361389160156,
          104.85957336425781,
          108.41123962402344,
          108.9991455078125,
          108.82534790039062,
          107.45526123046875,
          105.87628173828125,
          103.10816955566406,
          98.90171813964844,
          94.55370330810547,
          91.85762023925781,
          88.70861053466797,
          87.85816955566406,
          87.07673645019531,
          84.58570861816406,
          82.62008666992188,
          82.81120300292969,
          83.54605102539062,
          83.53486633300781,
          83.54096221923828,
          81.26709747314453,
          78.93621826171875,
          76.18551635742188,
          74.51338195800781,
          72.61981201171875,
          70.48939514160156,
          68.97984313964844,
          67.07923889160156,
          68.18185424804688,
          67.89175415039062,
          66.21812438964844,
          66.50225830078125,
          65.32814025878906,
          64.45951843261719,
          62.987953186035156,
          62.19309997558594,
          62.24890899658203,
          62.595603942871094,
          62.53970718383789,
          63.44293212890625,
          63.39867401123047,
          63.79613494873047,
          63.58116912841797,
          63.66040802001953,
          63.78646469116211,
          63.878570556640625,
          63.196861267089844,
          61.11567687988281,
          60.27605438232422,
          61.224029541015625,
          61.246604919433594,
          60.26412582397461,
          58.592159271240234,
          57.7661018371582,
          56.370975494384766,
          55.4001350402832,
          54.426536560058594,
          52.76265335083008,
          50.58217239379883,
          50.37187576293945,
          50.18965148925781,
          49.932273864746094,
          49.60824966430664,
          49.39890670776367,
          49.075443267822266,
          48.89569854736328,
          48.637123107910156,
          48.67388153076172,
          48.37915802001953,
          47.880828857421875,
          47.78668212890625,
          47.692413330078125,
          47.84526824951172,
          47.89352798461914,
          47.513221740722656,
          47.21122741699219,
          46.907020568847656,
          47.19664001464844,
          47.25981903076172,
          46.69481658935547,
          46.691017150878906,
          47.23735046386719,
          46.7127571105957,
          46.5177001953125,
          47.26042556762695,
          47.06025314331055,
          48.11429214477539,
          47.482269287109375,
          47.349586486816406,
          47.16736602783203,
          47.20475387573242,
          48.753875732421875,
          52.88917541503906,
          59.55445098876953,
          68.21536254882812,
          77.18455505371094,
          85.9739761352539,
          93.95606231689453,
          101.31301879882812,
          105.15989685058594,
          109.74913024902344,
          114.10565185546875,
          115.3568115234375,
          115.52336120605469,
          114.53379821777344,
          111.81134033203125,
          108.61320495605469,
          104.72366333007812,
          99.99209594726562,
          95.40501403808594,
          92.34449768066406,
          90.15953063964844,
          88.04057312011719,
          87.40251159667969,
          87.10307312011719,
          87.18379211425781,
          85.96922302246094,
          87.1160659790039,
          87.31509399414062,
          86.09297180175781,
          88.10211944580078,
          85.12117004394531
         ],
         "yaxis": "y2"
        }
       ],
       "layout": {
        "font": {
         "color": "#FFFFFF",
         "family": "Courier New, monospace",
         "size": 12
        },
        "template": {
         "data": {
          "bar": [
           {
            "error_x": {
             "color": "#f2f5fa"
            },
            "error_y": {
             "color": "#f2f5fa"
            },
            "marker": {
             "line": {
              "color": "rgb(17,17,17)",
              "width": 0.5
             },
             "pattern": {
              "fillmode": "overlay",
              "size": 10,
              "solidity": 0.2
             }
            },
            "type": "bar"
           }
          ],
          "barpolar": [
           {
            "marker": {
             "line": {
              "color": "rgb(17,17,17)",
              "width": 0.5
             },
             "pattern": {
              "fillmode": "overlay",
              "size": 10,
              "solidity": 0.2
             }
            },
            "type": "barpolar"
           }
          ],
          "carpet": [
           {
            "aaxis": {
             "endlinecolor": "#A2B1C6",
             "gridcolor": "#506784",
             "linecolor": "#506784",
             "minorgridcolor": "#506784",
             "startlinecolor": "#A2B1C6"
            },
            "baxis": {
             "endlinecolor": "#A2B1C6",
             "gridcolor": "#506784",
             "linecolor": "#506784",
             "minorgridcolor": "#506784",
             "startlinecolor": "#A2B1C6"
            },
            "type": "carpet"
           }
          ],
          "choropleth": [
           {
            "colorbar": {
             "outlinewidth": 0,
             "ticks": ""
            },
            "type": "choropleth"
           }
          ],
          "contour": [
           {
            "colorbar": {
             "outlinewidth": 0,
             "ticks": ""
            },
            "colorscale": [
             [
              0,
              "#0d0887"
             ],
             [
              0.1111111111111111,
              "#46039f"
             ],
             [
              0.2222222222222222,
              "#7201a8"
             ],
             [
              0.3333333333333333,
              "#9c179e"
             ],
             [
              0.4444444444444444,
              "#bd3786"
             ],
             [
              0.5555555555555556,
              "#d8576b"
             ],
             [
              0.6666666666666666,
              "#ed7953"
             ],
             [
              0.7777777777777778,
              "#fb9f3a"
             ],
             [
              0.8888888888888888,
              "#fdca26"
             ],
             [
              1,
              "#f0f921"
             ]
            ],
            "type": "contour"
           }
          ],
          "contourcarpet": [
           {
            "colorbar": {
             "outlinewidth": 0,
             "ticks": ""
            },
            "type": "contourcarpet"
           }
          ],
          "heatmap": [
           {
            "colorbar": {
             "outlinewidth": 0,
             "ticks": ""
            },
            "colorscale": [
             [
              0,
              "#0d0887"
             ],
             [
              0.1111111111111111,
              "#46039f"
             ],
             [
              0.2222222222222222,
              "#7201a8"
             ],
             [
              0.3333333333333333,
              "#9c179e"
             ],
             [
              0.4444444444444444,
              "#bd3786"
             ],
             [
              0.5555555555555556,
              "#d8576b"
             ],
             [
              0.6666666666666666,
              "#ed7953"
             ],
             [
              0.7777777777777778,
              "#fb9f3a"
             ],
             [
              0.8888888888888888,
              "#fdca26"
             ],
             [
              1,
              "#f0f921"
             ]
            ],
            "type": "heatmap"
           }
          ],
          "heatmapgl": [
           {
            "colorbar": {
             "outlinewidth": 0,
             "ticks": ""
            },
            "colorscale": [
             [
              0,
              "#0d0887"
             ],
             [
              0.1111111111111111,
              "#46039f"
             ],
             [
              0.2222222222222222,
              "#7201a8"
             ],
             [
              0.3333333333333333,
              "#9c179e"
             ],
             [
              0.4444444444444444,
              "#bd3786"
             ],
             [
              0.5555555555555556,
              "#d8576b"
             ],
             [
              0.6666666666666666,
              "#ed7953"
             ],
             [
              0.7777777777777778,
              "#fb9f3a"
             ],
             [
              0.8888888888888888,
              "#fdca26"
             ],
             [
              1,
              "#f0f921"
             ]
            ],
            "type": "heatmapgl"
           }
          ],
          "histogram": [
           {
            "marker": {
             "pattern": {
              "fillmode": "overlay",
              "size": 10,
              "solidity": 0.2
             }
            },
            "type": "histogram"
           }
          ],
          "histogram2d": [
           {
            "colorbar": {
             "outlinewidth": 0,
             "ticks": ""
            },
            "colorscale": [
             [
              0,
              "#0d0887"
             ],
             [
              0.1111111111111111,
              "#46039f"
             ],
             [
              0.2222222222222222,
              "#7201a8"
             ],
             [
              0.3333333333333333,
              "#9c179e"
             ],
             [
              0.4444444444444444,
              "#bd3786"
             ],
             [
              0.5555555555555556,
              "#d8576b"
             ],
             [
              0.6666666666666666,
              "#ed7953"
             ],
             [
              0.7777777777777778,
              "#fb9f3a"
             ],
             [
              0.8888888888888888,
              "#fdca26"
             ],
             [
              1,
              "#f0f921"
             ]
            ],
            "type": "histogram2d"
           }
          ],
          "histogram2dcontour": [
           {
            "colorbar": {
             "outlinewidth": 0,
             "ticks": ""
            },
            "colorscale": [
             [
              0,
              "#0d0887"
             ],
             [
              0.1111111111111111,
              "#46039f"
             ],
             [
              0.2222222222222222,
              "#7201a8"
             ],
             [
              0.3333333333333333,
              "#9c179e"
             ],
             [
              0.4444444444444444,
              "#bd3786"
             ],
             [
              0.5555555555555556,
              "#d8576b"
             ],
             [
              0.6666666666666666,
              "#ed7953"
             ],
             [
              0.7777777777777778,
              "#fb9f3a"
             ],
             [
              0.8888888888888888,
              "#fdca26"
             ],
             [
              1,
              "#f0f921"
             ]
            ],
            "type": "histogram2dcontour"
           }
          ],
          "mesh3d": [
           {
            "colorbar": {
             "outlinewidth": 0,
             "ticks": ""
            },
            "type": "mesh3d"
           }
          ],
          "parcoords": [
           {
            "line": {
             "colorbar": {
              "outlinewidth": 0,
              "ticks": ""
             }
            },
            "type": "parcoords"
           }
          ],
          "pie": [
           {
            "automargin": true,
            "type": "pie"
           }
          ],
          "scatter": [
           {
            "marker": {
             "line": {
              "color": "#283442"
             }
            },
            "type": "scatter"
           }
          ],
          "scatter3d": [
           {
            "line": {
             "colorbar": {
              "outlinewidth": 0,
              "ticks": ""
             }
            },
            "marker": {
             "colorbar": {
              "outlinewidth": 0,
              "ticks": ""
             }
            },
            "type": "scatter3d"
           }
          ],
          "scattercarpet": [
           {
            "marker": {
             "colorbar": {
              "outlinewidth": 0,
              "ticks": ""
             }
            },
            "type": "scattercarpet"
           }
          ],
          "scattergeo": [
           {
            "marker": {
             "colorbar": {
              "outlinewidth": 0,
              "ticks": ""
             }
            },
            "type": "scattergeo"
           }
          ],
          "scattergl": [
           {
            "marker": {
             "line": {
              "color": "#283442"
             }
            },
            "type": "scattergl"
           }
          ],
          "scattermapbox": [
           {
            "marker": {
             "colorbar": {
              "outlinewidth": 0,
              "ticks": ""
             }
            },
            "type": "scattermapbox"
           }
          ],
          "scatterpolar": [
           {
            "marker": {
             "colorbar": {
              "outlinewidth": 0,
              "ticks": ""
             }
            },
            "type": "scatterpolar"
           }
          ],
          "scatterpolargl": [
           {
            "marker": {
             "colorbar": {
              "outlinewidth": 0,
              "ticks": ""
             }
            },
            "type": "scatterpolargl"
           }
          ],
          "scatterternary": [
           {
            "marker": {
             "colorbar": {
              "outlinewidth": 0,
              "ticks": ""
             }
            },
            "type": "scatterternary"
           }
          ],
          "surface": [
           {
            "colorbar": {
             "outlinewidth": 0,
             "ticks": ""
            },
            "colorscale": [
             [
              0,
              "#0d0887"
             ],
             [
              0.1111111111111111,
              "#46039f"
             ],
             [
              0.2222222222222222,
              "#7201a8"
             ],
             [
              0.3333333333333333,
              "#9c179e"
             ],
             [
              0.4444444444444444,
              "#bd3786"
             ],
             [
              0.5555555555555556,
              "#d8576b"
             ],
             [
              0.6666666666666666,
              "#ed7953"
             ],
             [
              0.7777777777777778,
              "#fb9f3a"
             ],
             [
              0.8888888888888888,
              "#fdca26"
             ],
             [
              1,
              "#f0f921"
             ]
            ],
            "type": "surface"
           }
          ],
          "table": [
           {
            "cells": {
             "fill": {
              "color": "#506784"
             },
             "line": {
              "color": "rgb(17,17,17)"
             }
            },
            "header": {
             "fill": {
              "color": "#2a3f5f"
             },
             "line": {
              "color": "rgb(17,17,17)"
             }
            },
            "type": "table"
           }
          ]
         },
         "layout": {
          "annotationdefaults": {
           "arrowcolor": "#f2f5fa",
           "arrowhead": 0,
           "arrowwidth": 1
          },
          "autotypenumbers": "strict",
          "coloraxis": {
           "colorbar": {
            "outlinewidth": 0,
            "ticks": ""
           }
          },
          "colorscale": {
           "diverging": [
            [
             0,
             "#8e0152"
            ],
            [
             0.1,
             "#c51b7d"
            ],
            [
             0.2,
             "#de77ae"
            ],
            [
             0.3,
             "#f1b6da"
            ],
            [
             0.4,
             "#fde0ef"
            ],
            [
             0.5,
             "#f7f7f7"
            ],
            [
             0.6,
             "#e6f5d0"
            ],
            [
             0.7,
             "#b8e186"
            ],
            [
             0.8,
             "#7fbc41"
            ],
            [
             0.9,
             "#4d9221"
            ],
            [
             1,
             "#276419"
            ]
           ],
           "sequential": [
            [
             0,
             "#0d0887"
            ],
            [
             0.1111111111111111,
             "#46039f"
            ],
            [
             0.2222222222222222,
             "#7201a8"
            ],
            [
             0.3333333333333333,
             "#9c179e"
            ],
            [
             0.4444444444444444,
             "#bd3786"
            ],
            [
             0.5555555555555556,
             "#d8576b"
            ],
            [
             0.6666666666666666,
             "#ed7953"
            ],
            [
             0.7777777777777778,
             "#fb9f3a"
            ],
            [
             0.8888888888888888,
             "#fdca26"
            ],
            [
             1,
             "#f0f921"
            ]
           ],
           "sequentialminus": [
            [
             0,
             "#0d0887"
            ],
            [
             0.1111111111111111,
             "#46039f"
            ],
            [
             0.2222222222222222,
             "#7201a8"
            ],
            [
             0.3333333333333333,
             "#9c179e"
            ],
            [
             0.4444444444444444,
             "#bd3786"
            ],
            [
             0.5555555555555556,
             "#d8576b"
            ],
            [
             0.6666666666666666,
             "#ed7953"
            ],
            [
             0.7777777777777778,
             "#fb9f3a"
            ],
            [
             0.8888888888888888,
             "#fdca26"
            ],
            [
             1,
             "#f0f921"
            ]
           ]
          },
          "colorway": [
           "#636efa",
           "#EF553B",
           "#00cc96",
           "#ab63fa",
           "#FFA15A",
           "#19d3f3",
           "#FF6692",
           "#B6E880",
           "#FF97FF",
           "#FECB52"
          ],
          "font": {
           "color": "#f2f5fa"
          },
          "geo": {
           "bgcolor": "rgb(17,17,17)",
           "lakecolor": "rgb(17,17,17)",
           "landcolor": "rgb(17,17,17)",
           "showlakes": true,
           "showland": true,
           "subunitcolor": "#506784"
          },
          "hoverlabel": {
           "align": "left"
          },
          "hovermode": "closest",
          "mapbox": {
           "style": "dark"
          },
          "paper_bgcolor": "rgb(17,17,17)",
          "plot_bgcolor": "rgb(17,17,17)",
          "polar": {
           "angularaxis": {
            "gridcolor": "#506784",
            "linecolor": "#506784",
            "ticks": ""
           },
           "bgcolor": "rgb(17,17,17)",
           "radialaxis": {
            "gridcolor": "#506784",
            "linecolor": "#506784",
            "ticks": ""
           }
          },
          "scene": {
           "xaxis": {
            "backgroundcolor": "rgb(17,17,17)",
            "gridcolor": "#506784",
            "gridwidth": 2,
            "linecolor": "#506784",
            "showbackground": true,
            "ticks": "",
            "zerolinecolor": "#C8D4E3"
           },
           "yaxis": {
            "backgroundcolor": "rgb(17,17,17)",
            "gridcolor": "#506784",
            "gridwidth": 2,
            "linecolor": "#506784",
            "showbackground": true,
            "ticks": "",
            "zerolinecolor": "#C8D4E3"
           },
           "zaxis": {
            "backgroundcolor": "rgb(17,17,17)",
            "gridcolor": "#506784",
            "gridwidth": 2,
            "linecolor": "#506784",
            "showbackground": true,
            "ticks": "",
            "zerolinecolor": "#C8D4E3"
           }
          },
          "shapedefaults": {
           "line": {
            "color": "#f2f5fa"
           }
          },
          "sliderdefaults": {
           "bgcolor": "#C8D4E3",
           "bordercolor": "rgb(17,17,17)",
           "borderwidth": 1,
           "tickwidth": 0
          },
          "ternary": {
           "aaxis": {
            "gridcolor": "#506784",
            "linecolor": "#506784",
            "ticks": ""
           },
           "baxis": {
            "gridcolor": "#506784",
            "linecolor": "#506784",
            "ticks": ""
           },
           "bgcolor": "rgb(17,17,17)",
           "caxis": {
            "gridcolor": "#506784",
            "linecolor": "#506784",
            "ticks": ""
           }
          },
          "title": {
           "x": 0.05
          },
          "updatemenudefaults": {
           "bgcolor": "#506784",
           "borderwidth": 0
          },
          "xaxis": {
           "automargin": true,
           "gridcolor": "#283442",
           "linecolor": "#506784",
           "ticks": "",
           "title": {
            "standoff": 15
           },
           "zerolinecolor": "#283442",
           "zerolinewidth": 2
          },
          "yaxis": {
           "automargin": true,
           "gridcolor": "#283442",
           "linecolor": "#506784",
           "ticks": "",
           "title": {
            "standoff": 15
           },
           "zerolinecolor": "#283442",
           "zerolinewidth": 2
          }
         }
        },
        "title": {
         "font": {
          "size": 20
         },
         "text": "Model Inputs (PPG, VPG, APG) and Module Output w/ True ABP"
        },
        "width": 800,
        "xaxis": {
         "anchor": "y",
         "domain": [
          0,
          1
         ]
        },
        "xaxis2": {
         "anchor": "y2",
         "domain": [
          0,
          1
         ],
         "title": {
          "font": {
           "size": 15
          },
          "text": "Time (samples)"
         }
        },
        "yaxis": {
         "anchor": "x",
         "domain": [
          0.575,
          1
         ],
         "title": {
          "font": {
           "size": 15
          },
          "text": "Amplitude (V)"
         }
        },
        "yaxis2": {
         "anchor": "x2",
         "domain": [
          0,
          0.425
         ],
         "title": {
          "font": {
           "size": 15
          },
          "text": "Amplitude (mmHg)"
         }
        }
       }
      }
     },
     "metadata": {},
     "output_type": "display_data"
    }
   ],
   "source": [
    "fig = make_subplots(rows=2, cols=1, start_cell='top-left')\n",
    "\n",
    "# Add inputs\n",
    "fig.add_scatter(\n",
    "    y=ppg[i, :],\n",
    "    name='PPG',\n",
    "    row=1,\n",
    "    col=1,\n",
    ")\n",
    "fig.add_scatter(\n",
    "    y=vpg[i, :] * 10,\n",
    "    name='VPG',\n",
    "    row=1,\n",
    "    col=1,\n",
    ")\n",
    "fig.add_scatter(\n",
    "    y=apg[i, :] * 50,\n",
    "    name='APG',\n",
    "    row=1,\n",
    "    col=1,\n",
    ")\n",
    "\n",
    "# Add ABP and prediction\n",
    "fig.add_scatter(\n",
    "    y=abp[i, :],\n",
    "    name='ABP (Ground Truth)',\n",
    "    row=2,\n",
    "    col=1\n",
    ")\n",
    "fig.add_scatter(\n",
    "    y=pred[i, :],\n",
    "    name='Prediction',\n",
    "    row=2,\n",
    "    col=1,\n",
    ")\n",
    "\n",
    "fig.update_layout(\n",
    "        title={\n",
    "            'text': 'Model Inputs (PPG, VPG, APG) and Module Output w/ True ABP',\n",
    "            'font': {'size': 20},\n",
    "        },\n",
    "        xaxis2={'title': 'Time (samples)', 'titlefont':{'size': 15}},\n",
    "        yaxis={'title': 'Amplitude (V)', 'titlefont':{'size': 15}},\n",
    "        yaxis2={'title': 'Amplitude (mmHg)', 'titlefont':{'size': 15}},\n",
    "        font={\n",
    "            'family': 'Courier New, monospace',\n",
    "            'color' : '#FFFFFF',\n",
    "            'size'  : 12,\n",
    "        },\n",
    "        template='plotly_dark',\n",
    "        width=800,\n",
    ")\n",
    "fig"
   ]
  }
 ],
 "metadata": {
  "kernelspec": {
   "display_name": "functions-l93Wp4uS-py3.8",
   "language": "python",
   "name": "python3"
  },
  "language_info": {
   "codemirror_mode": {
    "name": "ipython",
    "version": 3
   },
   "file_extension": ".py",
   "mimetype": "text/x-python",
   "name": "python",
   "nbconvert_exporter": "python",
   "pygments_lexer": "ipython3",
   "version": "3.8.13 (default, Mar 28 2022, 11:38:47) \n[GCC 7.5.0]"
  },
  "orig_nbformat": 4,
  "vscode": {
   "interpreter": {
    "hash": "d66b7bd54d61db119140a1a6403eab4fb7d5e69aedffca786078d3b8c6f1648f"
   }
  }
 },
 "nbformat": 4,
 "nbformat_minor": 2
}
