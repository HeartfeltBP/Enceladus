{
 "cells": [
  {
   "cell_type": "code",
   "execution_count": null,
   "metadata": {},
   "outputs": [],
   "source": [
    "from Enceladus.utils import GetConfiguration\n",
    "from Enceladus.models import MultiModalUNet\n",
    "\n",
    "pipeline, config, sweep = GetConfiguration().run('../config.ini')\n",
    "config['dropout_1'] = 0.5\n",
    "config['dropout_2'] = 0.5\n",
    "\n",
    "model = MultiModalUNet(config).init()\n",
    "\n",
    "model.summary()"
   ]
  }
 ],
 "metadata": {
  "kernelspec": {
   "display_name": "Python 3.8.13 ('enceladus-KRa0cCkj-py3.8')",
   "language": "python",
   "name": "python3"
  },
  "language_info": {
   "codemirror_mode": {
    "name": "ipython",
    "version": 3
   },
   "file_extension": ".py",
   "mimetype": "text/x-python",
   "name": "python",
   "nbconvert_exporter": "python",
   "pygments_lexer": "ipython3",
   "version": "3.8.13"
  },
  "orig_nbformat": 4,
  "vscode": {
   "interpreter": {
    "hash": "5ade12cb1b75b1f42951472efc0610a14d58a4335c0c3e2443ae63ff35fd8ec0"
   }
  }
 },
 "nbformat": 4,
 "nbformat_minor": 2
}
