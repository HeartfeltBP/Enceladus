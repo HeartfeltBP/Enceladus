{
 "cells": [
  {
   "cell_type": "code",
   "execution_count": 7,
   "metadata": {},
   "outputs": [],
   "source": [
    "import tensorflow as tf\n",
    "from keras.models import Model\n",
    "from keras.layers import Input, Conv1D, BatchNormalization, Activation, MaxPooling1D, UpSampling1D, Concatenate, Dropout, Dense\n",
    "from keras.initializers.initializers_v2 import GlorotUniform, HeUniform\n",
    "from keras.regularizers import L1, L2, L1L2\n",
    "\n",
    "def create_model():\n",
    "    input1 = Input(shape=(256, 1), name='ppg')\n",
    "    input2 = Input(shape=(256, 1), name='ppgd')\n",
    "    x1 = Conv1D(\n",
    "        filters=64,\n",
    "        kernel_size=(3),\n",
    "        padding='same',\n",
    "    )(input1)\n",
    "    x2 = Conv1D(\n",
    "        filters=64,\n",
    "        kernel_size=(3),\n",
    "        padding='same',\n",
    "    )(input2)\n",
    "    x1 = Activation('relu')(x1)\n",
    "    x2 = Activation('relu')(x2)\n",
    "    x = Concatenate()([x1, x2])\n",
    "    output = Dense(32)(x)\n",
    "    model = Model(inputs=[input1, input2], outputs=[output], name='unet')\n",
    "    return model\n",
    "\n",
    "model = create_model()"
   ]
  },
  {
   "cell_type": "code",
   "execution_count": 8,
   "metadata": {},
   "outputs": [
    {
     "name": "stdout",
     "output_type": "stream",
     "text": [
      "Model: \"unet\"\n",
      "__________________________________________________________________________________________________\n",
      " Layer (type)                   Output Shape         Param #     Connected to                     \n",
      "==================================================================================================\n",
      " ppg (InputLayer)               [(None, 256, 1)]     0           []                               \n",
      "                                                                                                  \n",
      " ppgd (InputLayer)              [(None, 256, 1)]     0           []                               \n",
      "                                                                                                  \n",
      " conv1d_9 (Conv1D)              (None, 256, 64)      256         ['ppg[0][0]']                    \n",
      "                                                                                                  \n",
      " conv1d_10 (Conv1D)             (None, 256, 64)      256         ['ppgd[0][0]']                   \n",
      "                                                                                                  \n",
      " activation_7 (Activation)      (None, 256, 64)      0           ['conv1d_9[0][0]']               \n",
      "                                                                                                  \n",
      " activation_8 (Activation)      (None, 256, 64)      0           ['conv1d_10[0][0]']              \n",
      "                                                                                                  \n",
      " concatenate_3 (Concatenate)    (None, 256, 128)     0           ['activation_7[0][0]',           \n",
      "                                                                  'activation_8[0][0]']           \n",
      "                                                                                                  \n",
      " dense_3 (Dense)                (None, 256, 32)      4128        ['concatenate_3[0][0]']          \n",
      "                                                                                                  \n",
      "==================================================================================================\n",
      "Total params: 4,640\n",
      "Trainable params: 4,640\n",
      "Non-trainable params: 0\n",
      "__________________________________________________________________________________________________\n"
     ]
    }
   ],
   "source": [
    "model.summary()"
   ]
  }
 ],
 "metadata": {
  "kernelspec": {
   "display_name": "Python 3.8.13 ('database-tools-Qo_l_FwJ-py3.8')",
   "language": "python",
   "name": "python3"
  },
  "language_info": {
   "codemirror_mode": {
    "name": "ipython",
    "version": 3
   },
   "file_extension": ".py",
   "mimetype": "text/x-python",
   "name": "python",
   "nbconvert_exporter": "python",
   "pygments_lexer": "ipython3",
   "version": "3.8.13"
  },
  "orig_nbformat": 4,
  "vscode": {
   "interpreter": {
    "hash": "c826fe4c3072c6c8679b0c2c5bfc4e59fc902350ea20ac6cce5df13884cb183b"
   }
  }
 },
 "nbformat": 4,
 "nbformat_minor": 2
}
